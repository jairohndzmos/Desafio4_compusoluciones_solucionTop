{
  "nbformat": 4,
  "nbformat_minor": 0,
  "metadata": {
    "kernelspec": {
      "name": "python3",
      "display_name": "Python 3.6",
      "language": "python"
    },
    "language_info": {
      "name": "python",
      "version": "3.6.9",
      "mimetype": "text/x-python",
      "codemirror_mode": {
        "name": "ipython",
        "version": 3
      },
      "pygments_lexer": "ipython3",
      "nbconvert_exporter": "python",
      "file_extension": ".py"
    },
    "colab": {
      "name": "desafio4_compusoluciones.ipynb",
      "provenance": [],
      "collapsed_sections": []
    }
  },
  "cells": [
    {
      "cell_type": "markdown",
      "metadata": {
        "collapsed": true,
        "id": "pWukKYArU6be",
        "colab_type": "text"
      },
      "source": [
        "# MARATONA BEHIND THE CODE 2020\n",
        "\n",
        "## DESAFIO 4 - CompuSoluciones"
      ]
    },
    {
      "cell_type": "markdown",
      "metadata": {
        "id": "ymeNKEcKU6bf",
        "colab_type": "text"
      },
      "source": [
        "### Introducción"
      ]
    },
    {
      "cell_type": "markdown",
      "metadata": {
        "id": "phwKren2U6bg",
        "colab_type": "text"
      },
      "source": [
        "En este desafío, CompuSoluciones usará herramientas de IBM como Watson Studio (o Cloud Pack for Data) y Watson Machine Learning para construir un modelo de Machine Learning natural capaz de predecir la probabilidad de cumplimiento de pago.\n",
        "\n",
        "La idea esencial del Desafío 4 es crear un modelo basado en machine learning capaz de identificar el comportamiento financiero del asociado de negocio, permitiendo una probabilidad de cumplimiento o incumplimiento del crédito."
      ]
    },
    {
      "cell_type": "markdown",
      "metadata": {
        "id": "Vwp9BoUVU6bh",
        "colab_type": "text"
      },
      "source": [
        "<hr>"
      ]
    },
    {
      "cell_type": "markdown",
      "metadata": {
        "id": "Op5E7YZdU6bh",
        "colab_type": "text"
      },
      "source": [
        "### Instalación de Librerias"
      ]
    },
    {
      "cell_type": "code",
      "metadata": {
        "id": "1QftRegrU6bi",
        "colab_type": "code",
        "colab": {
          "base_uri": "https://localhost:8080/",
          "height": 228
        },
        "outputId": "650edd36-0939-418e-8b8a-386cc884deba"
      },
      "source": [
        "!pip install scikit-learn --upgrade"
      ],
      "execution_count": null,
      "outputs": [
        {
          "output_type": "stream",
          "text": [
            "Collecting scikit-learn\n",
            "\u001b[?25l  Downloading https://files.pythonhosted.org/packages/5c/a1/273def87037a7fb010512bbc5901c31cfddfca8080bc63b42b26e3cc55b3/scikit_learn-0.23.2-cp36-cp36m-manylinux1_x86_64.whl (6.8MB)\n",
            "\u001b[K     |████████████████████████████████| 6.8MB 2.8MB/s \n",
            "\u001b[?25hRequirement already satisfied, skipping upgrade: joblib>=0.11 in /usr/local/lib/python3.6/dist-packages (from scikit-learn) (0.16.0)\n",
            "Requirement already satisfied, skipping upgrade: scipy>=0.19.1 in /usr/local/lib/python3.6/dist-packages (from scikit-learn) (1.4.1)\n",
            "Requirement already satisfied, skipping upgrade: numpy>=1.13.3 in /usr/local/lib/python3.6/dist-packages (from scikit-learn) (1.18.5)\n",
            "Collecting threadpoolctl>=2.0.0\n",
            "  Downloading https://files.pythonhosted.org/packages/f7/12/ec3f2e203afa394a149911729357aa48affc59c20e2c1c8297a60f33f133/threadpoolctl-2.1.0-py3-none-any.whl\n",
            "Installing collected packages: threadpoolctl, scikit-learn\n",
            "  Found existing installation: scikit-learn 0.22.2.post1\n",
            "    Uninstalling scikit-learn-0.22.2.post1:\n",
            "      Successfully uninstalled scikit-learn-0.22.2.post1\n",
            "Successfully installed scikit-learn-0.23.2 threadpoolctl-2.1.0\n"
          ],
          "name": "stdout"
        }
      ]
    },
    {
      "cell_type": "code",
      "metadata": {
        "id": "5ztf2wuAeDgo",
        "colab_type": "code",
        "colab": {
          "base_uri": "https://localhost:8080/",
          "height": 196
        },
        "outputId": "dc08e13a-8236-422e-c2f5-0a2b4d4b3820"
      },
      "source": [
        "!pip install scikit-learn==0.22.0 --upgrade"
      ],
      "execution_count": null,
      "outputs": [
        {
          "output_type": "stream",
          "text": [
            "Collecting scikit-learn==0.22.0\n",
            "\u001b[?25l  Downloading https://files.pythonhosted.org/packages/2e/d0/860c4f6a7027e00acff373d9f5327f4ae3ed5872234b3cbdd7bcb52e5eff/scikit_learn-0.22-cp36-cp36m-manylinux1_x86_64.whl (7.0MB)\n",
            "\u001b[K     |████████████████████████████████| 7.0MB 2.6MB/s \n",
            "\u001b[?25hRequirement already satisfied, skipping upgrade: numpy>=1.11.0 in /usr/local/lib/python3.6/dist-packages (from scikit-learn==0.22.0) (1.18.5)\n",
            "Requirement already satisfied, skipping upgrade: joblib>=0.11 in /usr/local/lib/python3.6/dist-packages (from scikit-learn==0.22.0) (0.16.0)\n",
            "Requirement already satisfied, skipping upgrade: scipy>=0.17.0 in /usr/local/lib/python3.6/dist-packages (from scikit-learn==0.22.0) (1.4.1)\n",
            "Installing collected packages: scikit-learn\n",
            "  Found existing installation: scikit-learn 0.23.2\n",
            "    Uninstalling scikit-learn-0.23.2:\n",
            "      Successfully uninstalled scikit-learn-0.23.2\n",
            "Successfully installed scikit-learn-0.22\n"
          ],
          "name": "stdout"
        }
      ]
    },
    {
      "cell_type": "code",
      "metadata": {
        "id": "hOxUQdQlU6bl",
        "colab_type": "code",
        "colab": {}
      },
      "source": [
        "# Si desea utilizar la biblioteca ** xgboost **, instale la versión 0.71.\n",
        "#!pip install xgboost==0.71 --upgrade"
      ],
      "execution_count": null,
      "outputs": []
    },
    {
      "cell_type": "code",
      "metadata": {
        "id": "_c8haYUHU6bo",
        "colab_type": "code",
        "colab": {
          "base_uri": "https://localhost:8080/",
          "height": 50
        },
        "outputId": "de98b2b2-f027-4217-d161-581608de6d92"
      },
      "source": [
        "import json\n",
        "import requests\n",
        "import pandas as pd\n",
        "import numpy as np\n",
        "from scipy import stats\n",
        "from datetime import datetime\n",
        "from sklearn import preprocessing\n",
        "from sklearn.model_selection import KFold\n",
        "from sklearn.impute import SimpleImputer\n",
        "from sklearn.model_selection import train_test_split\n",
        "from sklearn.pipeline import Pipeline\n",
        "import matplotlib.pyplot as plt\n",
        "import seaborn as sns"
      ],
      "execution_count": null,
      "outputs": [
        {
          "output_type": "stream",
          "text": [
            "/usr/local/lib/python3.6/dist-packages/statsmodels/tools/_testing.py:19: FutureWarning: pandas.util.testing is deprecated. Use the functions in the public API at pandas.testing instead.\n",
            "  import pandas.util.testing as tm\n"
          ],
          "name": "stderr"
        }
      ]
    },
    {
      "cell_type": "markdown",
      "metadata": {
        "id": "qoPbec4aU6bq",
        "colab_type": "text"
      },
      "source": [
        "### Descargando el dataset csv desde Github"
      ]
    },
    {
      "cell_type": "code",
      "metadata": {
        "id": "QOkCB619U6bq",
        "colab_type": "code",
        "colab": {
          "base_uri": "https://localhost:8080/",
          "height": 196
        },
        "outputId": "be9750e5-0ee0-47eb-e186-defe9545e7ac"
      },
      "source": [
        "!wget --no-check-certificate --content-disposition https://raw.githubusercontent.com/vanderlei-test/dataset/master/reto-4-compu-train.csv"
      ],
      "execution_count": null,
      "outputs": [
        {
          "output_type": "stream",
          "text": [
            "--2020-09-10 17:42:04--  https://raw.githubusercontent.com/vanderlei-test/dataset/master/reto-4-compu-train.csv\n",
            "Resolving raw.githubusercontent.com (raw.githubusercontent.com)... 151.101.0.133, 151.101.64.133, 151.101.128.133, ...\n",
            "Connecting to raw.githubusercontent.com (raw.githubusercontent.com)|151.101.0.133|:443... connected.\n",
            "HTTP request sent, awaiting response... 200 OK\n",
            "Length: 1751735 (1.7M) [text/plain]\n",
            "Saving to: ‘reto-4-compu-train.csv’\n",
            "\n",
            "reto-4-compu-train. 100%[===================>]   1.67M  --.-KB/s    in 0.1s    \n",
            "\n",
            "2020-09-10 17:42:04 (13.1 MB/s) - ‘reto-4-compu-train.csv’ saved [1751735/1751735]\n",
            "\n"
          ],
          "name": "stdout"
        }
      ]
    },
    {
      "cell_type": "code",
      "metadata": {
        "id": "0bMi11O-U6bs",
        "colab_type": "code",
        "colab": {
          "base_uri": "https://localhost:8080/",
          "height": 211
        },
        "outputId": "128692c3-284e-4feb-8fe5-c3bdaba7401d"
      },
      "source": [
        "df = pd.read_csv(r'reto-4-compu-train.csv')\n",
        "df.head()"
      ],
      "execution_count": null,
      "outputs": [
        {
          "output_type": "execute_result",
          "data": {
            "text/html": [
              "<div>\n",
              "<style scoped>\n",
              "    .dataframe tbody tr th:only-of-type {\n",
              "        vertical-align: middle;\n",
              "    }\n",
              "\n",
              "    .dataframe tbody tr th {\n",
              "        vertical-align: top;\n",
              "    }\n",
              "\n",
              "    .dataframe thead th {\n",
              "        text-align: right;\n",
              "    }\n",
              "</style>\n",
              "<table border=\"1\" class=\"dataframe\">\n",
              "  <thead>\n",
              "    <tr style=\"text-align: right;\">\n",
              "      <th></th>\n",
              "      <th>EFECTIVO</th>\n",
              "      <th>CXC</th>\n",
              "      <th>INVENTARIO</th>\n",
              "      <th>EQ_OFICINA</th>\n",
              "      <th>EQ_TRANSPORTE</th>\n",
              "      <th>TERRENOS_Y_CONSTRUCCIONES</th>\n",
              "      <th>CXP</th>\n",
              "      <th>CONTRIBUCIONES_X_PAGAR</th>\n",
              "      <th>ANTICIPOS_CTE</th>\n",
              "      <th>CAP_SOCIAL</th>\n",
              "      <th>UTILIDADES_ACUMULADAS</th>\n",
              "      <th>UTILIDAD_O_PERDIDA</th>\n",
              "      <th>TOTAL_VENTAS</th>\n",
              "      <th>TOTAL_COMPRAS</th>\n",
              "      <th>UTILIDAD_BRUTA</th>\n",
              "      <th>TOTAL_GASTOS</th>\n",
              "      <th>OBJETIVO</th>\n",
              "    </tr>\n",
              "  </thead>\n",
              "  <tbody>\n",
              "    <tr>\n",
              "      <th>0</th>\n",
              "      <td>NaN</td>\n",
              "      <td>7.710800e+06</td>\n",
              "      <td>NaN</td>\n",
              "      <td>1.237449e+06</td>\n",
              "      <td>2.947057e+05</td>\n",
              "      <td>8.812520e+06</td>\n",
              "      <td>4.547214e+07</td>\n",
              "      <td>239671.50090</td>\n",
              "      <td>1.257907e+06</td>\n",
              "      <td>2356497.733</td>\n",
              "      <td>-6.009930e+06</td>\n",
              "      <td>-6.816681e+06</td>\n",
              "      <td>41309820.53</td>\n",
              "      <td>6.872572e+07</td>\n",
              "      <td>6298390.104</td>\n",
              "      <td>1.505762e+07</td>\n",
              "      <td>Aceptado</td>\n",
              "    </tr>\n",
              "    <tr>\n",
              "      <th>1</th>\n",
              "      <td>7.437098e+04</td>\n",
              "      <td>2.213116e+06</td>\n",
              "      <td>NaN</td>\n",
              "      <td>1.335531e+05</td>\n",
              "      <td>4.000109e+05</td>\n",
              "      <td>8.491851e+06</td>\n",
              "      <td>1.573254e+07</td>\n",
              "      <td>94809.20697</td>\n",
              "      <td>6.708985e+05</td>\n",
              "      <td>NaN</td>\n",
              "      <td>-7.980962e+06</td>\n",
              "      <td>-3.342452e+06</td>\n",
              "      <td>NaN</td>\n",
              "      <td>3.588274e+07</td>\n",
              "      <td>NaN</td>\n",
              "      <td>1.085156e+07</td>\n",
              "      <td>Aceptado</td>\n",
              "    </tr>\n",
              "    <tr>\n",
              "      <th>2</th>\n",
              "      <td>5.269987e+06</td>\n",
              "      <td>2.893119e+07</td>\n",
              "      <td>3.983352e+05</td>\n",
              "      <td>1.533061e+07</td>\n",
              "      <td>3.478673e+06</td>\n",
              "      <td>-1.393229e+07</td>\n",
              "      <td>NaN</td>\n",
              "      <td>610814.63990</td>\n",
              "      <td>1.009937e+07</td>\n",
              "      <td>1444426.243</td>\n",
              "      <td>NaN</td>\n",
              "      <td>-4.026344e+06</td>\n",
              "      <td>NaN</td>\n",
              "      <td>3.292337e+08</td>\n",
              "      <td>NaN</td>\n",
              "      <td>8.680735e+06</td>\n",
              "      <td>Sospechoso</td>\n",
              "    </tr>\n",
              "    <tr>\n",
              "      <th>3</th>\n",
              "      <td>9.092134e+05</td>\n",
              "      <td>1.145092e+07</td>\n",
              "      <td>9.577823e+06</td>\n",
              "      <td>1.068692e+06</td>\n",
              "      <td>1.302021e+06</td>\n",
              "      <td>1.379064e+06</td>\n",
              "      <td>NaN</td>\n",
              "      <td>NaN</td>\n",
              "      <td>2.378928e+06</td>\n",
              "      <td>1236065.779</td>\n",
              "      <td>NaN</td>\n",
              "      <td>-4.567435e+06</td>\n",
              "      <td>76310275.60</td>\n",
              "      <td>NaN</td>\n",
              "      <td>NaN</td>\n",
              "      <td>1.323267e+07</td>\n",
              "      <td>Aceptado</td>\n",
              "    </tr>\n",
              "    <tr>\n",
              "      <th>4</th>\n",
              "      <td>9.688669e+05</td>\n",
              "      <td>8.539206e+06</td>\n",
              "      <td>3.898283e+06</td>\n",
              "      <td>4.168733e+05</td>\n",
              "      <td>NaN</td>\n",
              "      <td>-6.297179e+05</td>\n",
              "      <td>7.620711e+06</td>\n",
              "      <td>116647.73960</td>\n",
              "      <td>1.798065e+06</td>\n",
              "      <td>3657339.603</td>\n",
              "      <td>7.702845e+05</td>\n",
              "      <td>-7.110320e+05</td>\n",
              "      <td>62901614.29</td>\n",
              "      <td>3.614260e+07</td>\n",
              "      <td>6850340.403</td>\n",
              "      <td>1.100048e+07</td>\n",
              "      <td>Aceptado</td>\n",
              "    </tr>\n",
              "  </tbody>\n",
              "</table>\n",
              "</div>"
            ],
            "text/plain": [
              "       EFECTIVO           CXC  ...  TOTAL_GASTOS    OBJETIVO\n",
              "0           NaN  7.710800e+06  ...  1.505762e+07    Aceptado\n",
              "1  7.437098e+04  2.213116e+06  ...  1.085156e+07    Aceptado\n",
              "2  5.269987e+06  2.893119e+07  ...  8.680735e+06  Sospechoso\n",
              "3  9.092134e+05  1.145092e+07  ...  1.323267e+07    Aceptado\n",
              "4  9.688669e+05  8.539206e+06  ...  1.100048e+07    Aceptado\n",
              "\n",
              "[5 rows x 17 columns]"
            ]
          },
          "metadata": {
            "tags": []
          },
          "execution_count": 6
        }
      ]
    },
    {
      "cell_type": "code",
      "metadata": {
        "id": "h9buO8c-Hfiy",
        "colab_type": "code",
        "colab": {}
      },
      "source": [
        "df = df.drop(columns=[\n",
        "        'CXC',\n",
        "        'EQ_OFICINA',\n",
        "        'CONTRIBUCIONES_X_PAGAR',\n",
        "        'TOTAL_COMPRAS',\n",
        "        'UTILIDAD_BRUTA',\n",
        "\n",
        "        'CXP',\n",
        "        'TOTAL_VENTAS',\n",
        "\n",
        "\n",
        "        'INVENTARIO',\n",
        "        'UTILIDADES_ACUMULADAS'\n",
        "\n",
        "\n",
        "    ])"
      ],
      "execution_count": null,
      "outputs": []
    },
    {
      "cell_type": "code",
      "metadata": {
        "id": "lND9CCvFIC6V",
        "colab_type": "code",
        "colab": {
          "base_uri": "https://localhost:8080/",
          "height": 191
        },
        "outputId": "1735c565-bfd1-4854-d3c4-a493baf4dd26"
      },
      "source": [
        "df.head()"
      ],
      "execution_count": null,
      "outputs": [
        {
          "output_type": "execute_result",
          "data": {
            "text/html": [
              "<div>\n",
              "<style scoped>\n",
              "    .dataframe tbody tr th:only-of-type {\n",
              "        vertical-align: middle;\n",
              "    }\n",
              "\n",
              "    .dataframe tbody tr th {\n",
              "        vertical-align: top;\n",
              "    }\n",
              "\n",
              "    .dataframe thead th {\n",
              "        text-align: right;\n",
              "    }\n",
              "</style>\n",
              "<table border=\"1\" class=\"dataframe\">\n",
              "  <thead>\n",
              "    <tr style=\"text-align: right;\">\n",
              "      <th></th>\n",
              "      <th>EFECTIVO</th>\n",
              "      <th>EQ_TRANSPORTE</th>\n",
              "      <th>TERRENOS_Y_CONSTRUCCIONES</th>\n",
              "      <th>ANTICIPOS_CTE</th>\n",
              "      <th>CAP_SOCIAL</th>\n",
              "      <th>UTILIDAD_O_PERDIDA</th>\n",
              "      <th>TOTAL_GASTOS</th>\n",
              "      <th>OBJETIVO</th>\n",
              "    </tr>\n",
              "  </thead>\n",
              "  <tbody>\n",
              "    <tr>\n",
              "      <th>0</th>\n",
              "      <td>NaN</td>\n",
              "      <td>2.947057e+05</td>\n",
              "      <td>8.812520e+06</td>\n",
              "      <td>1.257907e+06</td>\n",
              "      <td>2356497.733</td>\n",
              "      <td>-6.816681e+06</td>\n",
              "      <td>1.505762e+07</td>\n",
              "      <td>Aceptado</td>\n",
              "    </tr>\n",
              "    <tr>\n",
              "      <th>1</th>\n",
              "      <td>7.437098e+04</td>\n",
              "      <td>4.000109e+05</td>\n",
              "      <td>8.491851e+06</td>\n",
              "      <td>6.708985e+05</td>\n",
              "      <td>NaN</td>\n",
              "      <td>-3.342452e+06</td>\n",
              "      <td>1.085156e+07</td>\n",
              "      <td>Aceptado</td>\n",
              "    </tr>\n",
              "    <tr>\n",
              "      <th>2</th>\n",
              "      <td>5.269987e+06</td>\n",
              "      <td>3.478673e+06</td>\n",
              "      <td>-1.393229e+07</td>\n",
              "      <td>1.009937e+07</td>\n",
              "      <td>1444426.243</td>\n",
              "      <td>-4.026344e+06</td>\n",
              "      <td>8.680735e+06</td>\n",
              "      <td>Sospechoso</td>\n",
              "    </tr>\n",
              "    <tr>\n",
              "      <th>3</th>\n",
              "      <td>9.092134e+05</td>\n",
              "      <td>1.302021e+06</td>\n",
              "      <td>1.379064e+06</td>\n",
              "      <td>2.378928e+06</td>\n",
              "      <td>1236065.779</td>\n",
              "      <td>-4.567435e+06</td>\n",
              "      <td>1.323267e+07</td>\n",
              "      <td>Aceptado</td>\n",
              "    </tr>\n",
              "    <tr>\n",
              "      <th>4</th>\n",
              "      <td>9.688669e+05</td>\n",
              "      <td>NaN</td>\n",
              "      <td>-6.297179e+05</td>\n",
              "      <td>1.798065e+06</td>\n",
              "      <td>3657339.603</td>\n",
              "      <td>-7.110320e+05</td>\n",
              "      <td>1.100048e+07</td>\n",
              "      <td>Aceptado</td>\n",
              "    </tr>\n",
              "  </tbody>\n",
              "</table>\n",
              "</div>"
            ],
            "text/plain": [
              "       EFECTIVO  EQ_TRANSPORTE  ...  TOTAL_GASTOS    OBJETIVO\n",
              "0           NaN   2.947057e+05  ...  1.505762e+07    Aceptado\n",
              "1  7.437098e+04   4.000109e+05  ...  1.085156e+07    Aceptado\n",
              "2  5.269987e+06   3.478673e+06  ...  8.680735e+06  Sospechoso\n",
              "3  9.092134e+05   1.302021e+06  ...  1.323267e+07    Aceptado\n",
              "4  9.688669e+05            NaN  ...  1.100048e+07    Aceptado\n",
              "\n",
              "[5 rows x 8 columns]"
            ]
          },
          "metadata": {
            "tags": []
          },
          "execution_count": 30
        }
      ]
    },
    {
      "cell_type": "code",
      "metadata": {
        "id": "6WAl1kWKHlOB",
        "colab_type": "code",
        "colab": {
          "base_uri": "https://localhost:8080/",
          "height": 280
        },
        "outputId": "e033b7d5-e472-4779-cd97-1780e3bf1c40"
      },
      "source": [
        "import seaborn as sns\n",
        "fig, axs = plt.subplots(nrows=len(df.columns[0:-1]))\n",
        "for col, idx in zip(df[df.columns[0:-1]],range(len(df.columns[0:-1]))):\n",
        "  sns.boxplot(x=df[col], ax=axs[idx])"
      ],
      "execution_count": null,
      "outputs": [
        {
          "output_type": "display_data",
          "data": {
            "image/png": "[encoded data removed]",
            "text/plain": [
              "<Figure size 432x288 with 7 Axes>"
            ]
          },
          "metadata": {
            "tags": [],
            "needs_background": "light"
          }
        }
      ]
    },
    {
      "cell_type": "markdown",
      "metadata": {
        "id": "alNOlnwOU6bu",
        "colab_type": "text"
      },
      "source": [
        "### Acerca del Dataset"
      ]
    },
    {
      "cell_type": "code",
      "metadata": {
        "scrolled": false,
        "id": "3Oh5zBqEU6bv",
        "colab_type": "code",
        "colab": {
          "base_uri": "https://localhost:8080/",
          "height": 407
        },
        "outputId": "ef7f9f6c-0e92-464d-9ce4-875b0c89c024"
      },
      "source": [
        "df.info()"
      ],
      "execution_count": null,
      "outputs": [
        {
          "output_type": "stream",
          "text": [
            "<class 'pandas.core.frame.DataFrame'>\n",
            "RangeIndex: 9400 entries, 0 to 9399\n",
            "Data columns (total 17 columns):\n",
            " #   Column                     Non-Null Count  Dtype  \n",
            "---  ------                     --------------  -----  \n",
            " 0   EFECTIVO                   7986 non-null   float64\n",
            " 1   CXC                        7968 non-null   float64\n",
            " 2   INVENTARIO                 8000 non-null   float64\n",
            " 3   EQ_OFICINA                 7945 non-null   float64\n",
            " 4   EQ_TRANSPORTE              7988 non-null   float64\n",
            " 5   TERRENOS_Y_CONSTRUCCIONES  8038 non-null   float64\n",
            " 6   CXP                        7934 non-null   float64\n",
            " 7   CONTRIBUCIONES_X_PAGAR     8052 non-null   float64\n",
            " 8   ANTICIPOS_CTE              7976 non-null   float64\n",
            " 9   CAP_SOCIAL                 8036 non-null   float64\n",
            " 10  UTILIDADES_ACUMULADAS      7993 non-null   float64\n",
            " 11  UTILIDAD_O_PERDIDA         8031 non-null   float64\n",
            " 12  TOTAL_VENTAS               7941 non-null   float64\n",
            " 13  TOTAL_COMPRAS              7908 non-null   float64\n",
            " 14  UTILIDAD_BRUTA             7971 non-null   float64\n",
            " 15  TOTAL_GASTOS               7943 non-null   float64\n",
            " 16  OBJETIVO                   9400 non-null   object \n",
            "dtypes: float64(16), object(1)\n",
            "memory usage: 1.2+ MB\n"
          ],
          "name": "stdout"
        }
      ]
    },
    {
      "cell_type": "markdown",
      "metadata": {
        "id": "dGfIX1quU6bx",
        "colab_type": "text"
      },
      "source": [
        "Las variables son todas numericas. Solo nuestra variable TARGET (Prestamo aprobado o posible incumplimiento financiero) es the tipo float.\n",
        "\n",
        "La función describe() de abajo muestra varias estadisticas del dataset."
      ]
    },
    {
      "cell_type": "code",
      "metadata": {
        "scrolled": true,
        "id": "bx37htwIU6by",
        "colab_type": "code",
        "colab": {
          "base_uri": "https://localhost:8080/",
          "height": 297
        },
        "outputId": "a858d782-7833-43a1-d1cc-9101d9b103d1"
      },
      "source": [
        "df.describe()"
      ],
      "execution_count": null,
      "outputs": [
        {
          "output_type": "execute_result",
          "data": {
            "text/html": [
              "<div>\n",
              "<style scoped>\n",
              "    .dataframe tbody tr th:only-of-type {\n",
              "        vertical-align: middle;\n",
              "    }\n",
              "\n",
              "    .dataframe tbody tr th {\n",
              "        vertical-align: top;\n",
              "    }\n",
              "\n",
              "    .dataframe thead th {\n",
              "        text-align: right;\n",
              "    }\n",
              "</style>\n",
              "<table border=\"1\" class=\"dataframe\">\n",
              "  <thead>\n",
              "    <tr style=\"text-align: right;\">\n",
              "      <th></th>\n",
              "      <th>EFECTIVO</th>\n",
              "      <th>CXC</th>\n",
              "      <th>INVENTARIO</th>\n",
              "      <th>EQ_OFICINA</th>\n",
              "      <th>EQ_TRANSPORTE</th>\n",
              "      <th>TERRENOS_Y_CONSTRUCCIONES</th>\n",
              "      <th>CXP</th>\n",
              "      <th>CONTRIBUCIONES_X_PAGAR</th>\n",
              "      <th>ANTICIPOS_CTE</th>\n",
              "      <th>CAP_SOCIAL</th>\n",
              "      <th>UTILIDADES_ACUMULADAS</th>\n",
              "      <th>UTILIDAD_O_PERDIDA</th>\n",
              "      <th>TOTAL_VENTAS</th>\n",
              "      <th>TOTAL_COMPRAS</th>\n",
              "      <th>UTILIDAD_BRUTA</th>\n",
              "      <th>TOTAL_GASTOS</th>\n",
              "    </tr>\n",
              "  </thead>\n",
              "  <tbody>\n",
              "    <tr>\n",
              "      <th>count</th>\n",
              "      <td>7.986000e+03</td>\n",
              "      <td>7.968000e+03</td>\n",
              "      <td>8.000000e+03</td>\n",
              "      <td>7.945000e+03</td>\n",
              "      <td>7.988000e+03</td>\n",
              "      <td>8.038000e+03</td>\n",
              "      <td>7.934000e+03</td>\n",
              "      <td>8.052000e+03</td>\n",
              "      <td>7.976000e+03</td>\n",
              "      <td>8.036000e+03</td>\n",
              "      <td>7.993000e+03</td>\n",
              "      <td>8.031000e+03</td>\n",
              "      <td>7.941000e+03</td>\n",
              "      <td>7.908000e+03</td>\n",
              "      <td>7.971000e+03</td>\n",
              "      <td>7.943000e+03</td>\n",
              "    </tr>\n",
              "    <tr>\n",
              "      <th>mean</th>\n",
              "      <td>1.720915e+06</td>\n",
              "      <td>1.561073e+07</td>\n",
              "      <td>1.098941e+07</td>\n",
              "      <td>4.341284e+06</td>\n",
              "      <td>1.321588e+06</td>\n",
              "      <td>6.198420e+05</td>\n",
              "      <td>2.275234e+07</td>\n",
              "      <td>4.109997e+05</td>\n",
              "      <td>2.635145e+06</td>\n",
              "      <td>3.325138e+06</td>\n",
              "      <td>4.240122e+06</td>\n",
              "      <td>-2.090086e+06</td>\n",
              "      <td>1.017051e+08</td>\n",
              "      <td>1.211510e+08</td>\n",
              "      <td>1.702067e+07</td>\n",
              "      <td>1.620236e+07</td>\n",
              "    </tr>\n",
              "    <tr>\n",
              "      <th>std</th>\n",
              "      <td>5.958844e+06</td>\n",
              "      <td>1.980334e+07</td>\n",
              "      <td>1.541956e+07</td>\n",
              "      <td>1.885512e+07</td>\n",
              "      <td>1.398674e+06</td>\n",
              "      <td>6.202347e+06</td>\n",
              "      <td>2.810091e+07</td>\n",
              "      <td>6.311683e+05</td>\n",
              "      <td>3.828127e+06</td>\n",
              "      <td>4.122756e+06</td>\n",
              "      <td>1.066916e+07</td>\n",
              "      <td>2.439421e+06</td>\n",
              "      <td>1.148423e+08</td>\n",
              "      <td>3.320798e+08</td>\n",
              "      <td>1.710116e+07</td>\n",
              "      <td>1.341951e+07</td>\n",
              "    </tr>\n",
              "    <tr>\n",
              "      <th>min</th>\n",
              "      <td>2.591455e+03</td>\n",
              "      <td>3.282261e+01</td>\n",
              "      <td>5.019700e-02</td>\n",
              "      <td>2.974216e+02</td>\n",
              "      <td>1.698222e+02</td>\n",
              "      <td>-1.577708e+07</td>\n",
              "      <td>1.276200e+01</td>\n",
              "      <td>5.638191e+03</td>\n",
              "      <td>4.495763e+00</td>\n",
              "      <td>2.334091e+00</td>\n",
              "      <td>-4.029189e+07</td>\n",
              "      <td>-8.716171e+06</td>\n",
              "      <td>7.154203e+03</td>\n",
              "      <td>1.458903e+05</td>\n",
              "      <td>2.408107e+03</td>\n",
              "      <td>3.979024e+03</td>\n",
              "    </tr>\n",
              "    <tr>\n",
              "      <th>25%</th>\n",
              "      <td>1.874601e+05</td>\n",
              "      <td>2.362067e+06</td>\n",
              "      <td>9.281351e+05</td>\n",
              "      <td>1.769855e+05</td>\n",
              "      <td>3.433503e+05</td>\n",
              "      <td>-3.874056e+06</td>\n",
              "      <td>3.711720e+06</td>\n",
              "      <td>1.113298e+05</td>\n",
              "      <td>3.813363e+05</td>\n",
              "      <td>5.629920e+05</td>\n",
              "      <td>-3.025772e+06</td>\n",
              "      <td>-3.824858e+06</td>\n",
              "      <td>2.303181e+07</td>\n",
              "      <td>1.214764e+07</td>\n",
              "      <td>4.836037e+06</td>\n",
              "      <td>6.104123e+06</td>\n",
              "    </tr>\n",
              "    <tr>\n",
              "      <th>50%</th>\n",
              "      <td>5.112329e+05</td>\n",
              "      <td>8.255125e+06</td>\n",
              "      <td>4.810330e+06</td>\n",
              "      <td>6.529255e+05</td>\n",
              "      <td>8.630635e+05</td>\n",
              "      <td>1.828932e+06</td>\n",
              "      <td>1.286143e+07</td>\n",
              "      <td>2.288855e+05</td>\n",
              "      <td>1.235872e+06</td>\n",
              "      <td>1.870131e+06</td>\n",
              "      <td>4.119952e+06</td>\n",
              "      <td>-1.629044e+06</td>\n",
              "      <td>6.309045e+07</td>\n",
              "      <td>3.473485e+07</td>\n",
              "      <td>1.181114e+07</td>\n",
              "      <td>1.272461e+07</td>\n",
              "    </tr>\n",
              "    <tr>\n",
              "      <th>75%</th>\n",
              "      <td>1.432613e+06</td>\n",
              "      <td>2.160462e+07</td>\n",
              "      <td>1.474278e+07</td>\n",
              "      <td>2.430901e+06</td>\n",
              "      <td>1.827559e+06</td>\n",
              "      <td>5.955197e+06</td>\n",
              "      <td>3.097250e+07</td>\n",
              "      <td>4.690705e+05</td>\n",
              "      <td>3.273238e+06</td>\n",
              "      <td>4.536913e+06</td>\n",
              "      <td>1.140550e+07</td>\n",
              "      <td>-7.368186e+03</td>\n",
              "      <td>1.378293e+08</td>\n",
              "      <td>1.007433e+08</td>\n",
              "      <td>2.352766e+07</td>\n",
              "      <td>2.260017e+07</td>\n",
              "    </tr>\n",
              "    <tr>\n",
              "      <th>max</th>\n",
              "      <td>3.343603e+08</td>\n",
              "      <td>2.135761e+08</td>\n",
              "      <td>1.664338e+08</td>\n",
              "      <td>5.913821e+08</td>\n",
              "      <td>1.290365e+07</td>\n",
              "      <td>9.031323e+06</td>\n",
              "      <td>2.644946e+08</td>\n",
              "      <td>1.618323e+07</td>\n",
              "      <td>4.291686e+07</td>\n",
              "      <td>4.116688e+07</td>\n",
              "      <td>4.056842e+07</td>\n",
              "      <td>1.214191e+06</td>\n",
              "      <td>1.151511e+09</td>\n",
              "      <td>1.000136e+10</td>\n",
              "      <td>1.438985e+08</td>\n",
              "      <td>9.763166e+07</td>\n",
              "    </tr>\n",
              "  </tbody>\n",
              "</table>\n",
              "</div>"
            ],
            "text/plain": [
              "           EFECTIVO           CXC  ...  UTILIDAD_BRUTA  TOTAL_GASTOS\n",
              "count  7.986000e+03  7.968000e+03  ...    7.971000e+03  7.943000e+03\n",
              "mean   1.720915e+06  1.561073e+07  ...    1.702067e+07  1.620236e+07\n",
              "std    5.958844e+06  1.980334e+07  ...    1.710116e+07  1.341951e+07\n",
              "min    2.591455e+03  3.282261e+01  ...    2.408107e+03  3.979024e+03\n",
              "25%    1.874601e+05  2.362067e+06  ...    4.836037e+06  6.104123e+06\n",
              "50%    5.112329e+05  8.255125e+06  ...    1.181114e+07  1.272461e+07\n",
              "75%    1.432613e+06  2.160462e+07  ...    2.352766e+07  2.260017e+07\n",
              "max    3.343603e+08  2.135761e+08  ...    1.438985e+08  9.763166e+07\n",
              "\n",
              "[8 rows x 16 columns]"
            ]
          },
          "metadata": {
            "tags": []
          },
          "execution_count": 8
        }
      ]
    },
    {
      "cell_type": "markdown",
      "metadata": {
        "id": "y_mUk1z7U6b0",
        "colab_type": "text"
      },
      "source": [
        "<hr>"
      ]
    },
    {
      "cell_type": "markdown",
      "metadata": {
        "id": "VfZcIlEGU6b0",
        "colab_type": "text"
      },
      "source": [
        "### Entrenamiento y evaluación de un modelo de clasificación binaria"
      ]
    },
    {
      "cell_type": "markdown",
      "metadata": {
        "id": "O1-JgX_bU6b1",
        "colab_type": "text"
      },
      "source": [
        "\n",
        "#### Transformación 1: excluir columnas del conjunto de datos\n",
        "\n",
        "Para la creación de una transformación de datos personalizada en scikit-learn, es necesario crear una clase con los métodos transform y fit. En el método de 'transform', se ejecutará la lógica de nuestra transformación.\n",
        "\n",
        "La siguiente celda muestra el código completo de una transformación DropColumns para eliminar columnas de un pandas DataFrame.\n"
      ]
    },
    {
      "cell_type": "code",
      "metadata": {
        "id": "QZ1q-OQuU6b1",
        "colab_type": "code",
        "colab": {}
      },
      "source": [
        "from sklearn.base import BaseEstimator, TransformerMixin\n",
        "\n",
        "\n",
        "\n",
        "# All sklearn Transforms must have the `transform` and `fit` methods\n",
        "class DropColumns(BaseEstimator, TransformerMixin):\n",
        "    def __init__(self, columns):\n",
        "        self.columns = columns\n",
        "\n",
        "    def fit(self, X, y=None):\n",
        "        return self\n",
        "    \n",
        "    def transform(self, X):\n",
        "        # Primero copiamos el dataframe de datos de entrada 'X'\n",
        "        data = X.copy()\n",
        "        df_data = pd.DataFrame(data=data, columns=self.columns[1])\n",
        "        # Devolvemos un nuevo dataframe de datos sin las columnas no deseadas\n",
        "        return df_data.drop(labels=self.columns[0], axis='columns')"
      ],
      "execution_count": null,
      "outputs": []
    },
    {
      "cell_type": "code",
      "metadata": {
        "id": "K9TKmVUnXCHU",
        "colab_type": "code",
        "colab": {}
      },
      "source": [
        "from sklearn.base import BaseEstimator, TransformerMixin\n",
        "from sklearn.linear_model import LinearRegression\n",
        "\n",
        "# All sklearn Transforms must have the `transform` and `fit` methods\n",
        "class CustomTransformer(BaseEstimator, TransformerMixin):\n",
        "    def __init__(self, columns):\n",
        "        self.columns = columns\n",
        "\n",
        "    def fit(self, X, y=None):\n",
        "        return self\n",
        "    \n",
        "    def transform(self, X):\n",
        "        # Primero copiamos el dataframe de datos de entrada 'X'\n",
        "        data = X.copy()\n",
        "\n",
        "        \n",
        "        for column in self.columns:\n",
        "  \n",
        "          try:\n",
        "            X_ = X.dropna(subset=[list(X.corr()[(X.corr() >= 0.75) & (X.corr() < 1)][column].dropna().sort_values()[::-1].index)[0]])\n",
        "            newX = X_[[list(X.corr()[(X.corr() >= 0.75) & (X.corr() < 1)][column].dropna().sort_values()[::-1].index)[0]]+[column]]\n",
        "            newX_train = newX[np.isnan(X_[column])==False]\n",
        "\n",
        "\n",
        "            LinReg = LinearRegression()\n",
        "            LinReg.fit(newX_train[[list(X.corr()[(X.corr() >= 0.75) & (X.corr() < 1)][column].dropna().sort_values()[::-1].index)[0]]], newX_train[column])\n",
        "\n",
        "            valores_imputacion = newX[np.isnan(X_[column])]\n",
        "            valores_imputacion = valores_imputacion[[list(X.corr()[(X.corr() >= 0.75) & (X.corr() < 1)][column].dropna().sort_values()[::-1].index)[0]]]\n",
        "\n",
        "            nuevos_valores = LinReg.predict(valores_imputacion)\n",
        "            X_.loc[np.isnan(X_[column]), column] = nuevos_valores  \n",
        "            data.loc[X_.index, column] = X_[column]\n",
        "\n",
        "          except:\n",
        "            pass\n",
        "\n",
        "        \n",
        "        return data"
      ],
      "execution_count": null,
      "outputs": []
    },
    {
      "cell_type": "code",
      "metadata": {
        "id": "Hj5SGZdkbqOr",
        "colab_type": "code",
        "colab": {}
      },
      "source": [
        "from keras.layers import Dropout \n",
        "from keras import regularizers  \n",
        "def baseline_model():\n",
        "    model = Sequential()\n",
        "    model.add(Dense(128,\n",
        "                    activation = 'relu',\n",
        "                    input_dim = 7,\n",
        "                    activity_regularizer = regularizers.l2(1e-5)))\n",
        "    model.add(Dropout(0.50))\n",
        "    model.add(Dense(128,\n",
        "                    activation = 'relu', \n",
        "                    activity_regularizer = regularizers.l2(1e-5)))\n",
        "    model.add(Dropout(0.50))\n",
        "    model.add(Dense(64, activation = 'relu'))\n",
        "    model.add(Dense(15, activation = 'linear'))\n",
        "\n",
        "    model.add(Dense(1, activation = 'sigmoid'))\n",
        "    # create model\n",
        "\n",
        "    model.compile(loss='binary_crossentropy', optimizer='adam', metrics=['accuracy'])\n",
        "    return model"
      ],
      "execution_count": null,
      "outputs": []
    },
    {
      "cell_type": "code",
      "metadata": {
        "id": "PFBF0tG2YPAp",
        "colab_type": "code",
        "colab": {
          "base_uri": "https://localhost:8080/",
          "height": 142
        },
        "outputId": "32bf2b70-39a6-4123-821b-67b60d1c2224"
      },
      "source": [
        "'''\n",
        "def baseline_model():\n",
        "    # create model\n",
        "    model = Sequential()\n",
        "    model.add(Dense(128, input_dim=9, activation='relu'))\n",
        "    model.add(Dense(64, activation = 'relu'))\n",
        "    model.add(Dense(15, activation = 'linear'))\n",
        "    model.add(Dense(1, activation='sigmoid'))\n",
        "\n",
        "    # Compile model\n",
        "    model.compile(loss='binary_crossentropy', optimizer='adam', metrics=['accuracy'])\n",
        "    return model"
      ],
      "execution_count": null,
      "outputs": [
        {
          "output_type": "error",
          "ename": "SyntaxError",
          "evalue": "ignored",
          "traceback": [
            "\u001b[0;36m  File \u001b[0;32m\"<ipython-input-12-64423ca5d244>\"\u001b[0;36m, line \u001b[0;32m12\u001b[0m\n\u001b[0;31m    return model\u001b[0m\n\u001b[0m                \n^\u001b[0m\n\u001b[0;31mSyntaxError\u001b[0m\u001b[0;31m:\u001b[0m EOF while scanning triple-quoted string literal\n"
          ]
        }
      ]
    },
    {
      "cell_type": "code",
      "metadata": {
        "id": "JKQpl4LCYPsP",
        "colab_type": "code",
        "colab": {}
      },
      "source": [
        "from keras.wrappers.scikit_learn import KerasClassifier\n",
        "estimator = KerasClassifier(build_fn=baseline_model, epochs=50, batch_size=4, verbose=1)"
      ],
      "execution_count": null,
      "outputs": []
    },
    {
      "cell_type": "code",
      "metadata": {
        "id": "Fq4KKur6U6b3",
        "colab_type": "code",
        "colab": {
          "base_uri": "https://localhost:8080/",
          "height": 102
        },
        "outputId": "c7031cd2-2589-4732-d7e8-76897a0a1835"
      },
      "source": [
        "from imblearn.over_sampling import SMOTE\n",
        "from sklearn.decomposition import PCA\n",
        "from sklearn.preprocessing import RobustScaler, MinMaxScaler, StandardScaler\n",
        "from imblearn.under_sampling import RandomUnderSampler\n",
        "from sklearn.linear_model import LogisticRegression\n",
        "from collections import Counter\n",
        "from sklearn.model_selection import GridSearchCV\n",
        "from sklearn.metrics import confusion_matrix\n",
        "from imblearn.combine import SMOTETomek\n",
        "from sklearn.impute import KNNImputer\n",
        "from keras.models import Sequential\n",
        "from keras.layers import Dense\n",
        "from keras.wrappers.scikit_learn import KerasClassifier\n",
        "from imblearn.pipeline import Pipeline\n",
        "\n",
        "\n",
        "pipeline = Pipeline(\n",
        "    steps=[\n",
        "        ('paso_1',  CustomTransformer(\n",
        "    columns=[\n",
        "        'EFECTIVO',\n",
        "        'CXC',\n",
        "\n",
        "        'INVENTARIO',\n",
        "        'EQ_OFICINA',\n",
        "        'EQ_TRANSPORTE',\n",
        "        'TERRENOS_Y_CONSTRUCCIONES',\n",
        "        'CXP',\n",
        "        'CONTRIBUCIONES_X_PAGAR',\n",
        "        'ANTICIPOS_CTE',\n",
        "        'CAP_SOCIAL',\n",
        "        'UTILIDADES_ACUMULADAS',\n",
        "        'UTILIDAD_O_PERDIDA',\n",
        "        'TOTAL_VENTAS',\n",
        "        'TOTAL_COMPRAS',\n",
        "        'UTILIDAD_BRUTA',\n",
        "        'TOTAL_GASTOS',\n",
        "    ]\n",
        ")),\n",
        "('paso_2', KNNImputer(n_neighbors=51)),\n",
        "('paso_3', DropColumns(\n",
        "    columns=[[\n",
        "        'CXC',\n",
        "        'EQ_OFICINA',\n",
        "        'CONTRIBUCIONES_X_PAGAR',\n",
        "        'TOTAL_COMPRAS',\n",
        "        'UTILIDAD_BRUTA',\n",
        "\n",
        "        'CXP',\n",
        "        'TOTAL_VENTAS',\n",
        "\n",
        "\n",
        "        'INVENTARIO',\n",
        "        'UTILIDADES_ACUMULADAS'\n",
        "\n",
        "\n",
        "    ],['EFECTIVO',\n",
        "        'CXC',\n",
        "\n",
        "        'INVENTARIO',\n",
        "        'EQ_OFICINA',\n",
        "        'EQ_TRANSPORTE',\n",
        "        'TERRENOS_Y_CONSTRUCCIONES',\n",
        "        'CXP',\n",
        "        'CONTRIBUCIONES_X_PAGAR',\n",
        "        'ANTICIPOS_CTE',\n",
        "        'CAP_SOCIAL',\n",
        "        'UTILIDADES_ACUMULADAS',\n",
        "        'UTILIDAD_O_PERDIDA',\n",
        "        'TOTAL_VENTAS',\n",
        "        'TOTAL_COMPRAS',\n",
        "        'UTILIDAD_BRUTA',\n",
        "        'TOTAL_GASTOS']]\n",
        ")),\n",
        "('paso_4', SMOTETomek(sampling_strategy=0.3)),\n",
        "('paso_5', RandomUnderSampler(ratio={0:3500})),\n",
        "('paso_6', StandardScaler()),\n",
        "('paso_7', estimator)\n",
        "\n",
        "\n",
        "\n",
        "\n",
        "    ]\n",
        ")"
      ],
      "execution_count": null,
      "outputs": [
        {
          "output_type": "stream",
          "text": [
            "/usr/local/lib/python3.6/dist-packages/sklearn/externals/six.py:31: FutureWarning: The module is deprecated in version 0.21 and will be removed in version 0.23 since we've dropped support for Python 2.7. Please rely on the official version of six (https://pypi.org/project/six/).\n",
            "  \"(https://pypi.org/project/six/).\", FutureWarning)\n",
            "/usr/local/lib/python3.6/dist-packages/sklearn/utils/deprecation.py:144: FutureWarning: The sklearn.neighbors.base module is  deprecated in version 0.22 and will be removed in version 0.24. The corresponding classes / functions should instead be imported from sklearn.neighbors. Anything that cannot be imported from sklearn.neighbors is now part of the private API.\n",
            "  warnings.warn(message, FutureWarning)\n"
          ],
          "name": "stderr"
        }
      ]
    },
    {
      "cell_type": "code",
      "metadata": {
        "id": "S9rbmbuiYXjj",
        "colab_type": "code",
        "colab": {}
      },
      "source": [
        "pipeline_input = df[\n",
        "    [\n",
        "        'EFECTIVO',\n",
        "        'CXC',\n",
        "\n",
        "        'INVENTARIO',\n",
        "        'EQ_OFICINA',\n",
        "        'EQ_TRANSPORTE',\n",
        "        'TERRENOS_Y_CONSTRUCCIONES',\n",
        "        'CXP',\n",
        "        'CONTRIBUCIONES_X_PAGAR',\n",
        "        'ANTICIPOS_CTE',\n",
        "        'CAP_SOCIAL',\n",
        "        'UTILIDADES_ACUMULADAS',\n",
        "        'UTILIDAD_O_PERDIDA',\n",
        "        'TOTAL_VENTAS',\n",
        "        'TOTAL_COMPRAS',\n",
        "        'UTILIDAD_BRUTA',\n",
        "        'TOTAL_GASTOS',\n",
        "    ]\n",
        "]\n",
        "\n",
        "pipeline_target = df['OBJETIVO']"
      ],
      "execution_count": null,
      "outputs": []
    },
    {
      "cell_type": "code",
      "metadata": {
        "id": "8wyVEf9NYdea",
        "colab_type": "code",
        "colab": {
          "base_uri": "https://localhost:8080/",
          "height": 50
        },
        "outputId": "25c7c75f-3190-4183-ced2-04473f9cfa25"
      },
      "source": [
        "####\n",
        "from sklearn import preprocessing\n",
        "le = preprocessing.LabelEncoder()\n",
        "le.fit(pipeline_target.values)\n",
        "y = le.transform(pipeline_target.values)\n",
        "print(y.shape)\n",
        "print(y[0:30])\n",
        "###"
      ],
      "execution_count": null,
      "outputs": [
        {
          "output_type": "stream",
          "text": [
            "(9400,)\n",
            "[0 0 1 0 0 0 1 0 0 0 0 0 0 0 0 0 0 0 0 0 0 0 0 0 0 0 0 1 0 1]\n"
          ],
          "name": "stdout"
        }
      ]
    },
    {
      "cell_type": "code",
      "metadata": {
        "id": "32i7dIPBYwf2",
        "colab_type": "code",
        "colab": {}
      },
      "source": [
        "X_train, X_test, y_train, y_test = train_test_split(\n",
        "    pipeline_input,\n",
        "    y,\n",
        "    test_size=0.2,\n",
        "    random_state=21233\n",
        ")"
      ],
      "execution_count": null,
      "outputs": []
    },
    {
      "cell_type": "code",
      "metadata": {
        "id": "hAQ1mnzdmEoN",
        "colab_type": "code",
        "colab": {
          "base_uri": "https://localhost:8080/",
          "height": 895
        },
        "outputId": "26d0324a-98ff-49b4-b635-832549be935d"
      },
      "source": [
        "s_1 = CustomTransformer(\n",
        "    columns=[\n",
        "        'EFECTIVO',\n",
        "        'CXC',\n",
        "        'INVENTARIO',\n",
        "        'EQ_OFICINA',\n",
        "        'EQ_TRANSPORTE',\n",
        "        'TERRENOS_Y_CONSTRUCCIONES',\n",
        "        'CXP',\n",
        "        'CONTRIBUCIONES_X_PAGAR',\n",
        "        'ANTICIPOS_CTE',\n",
        "        'CAP_SOCIAL',\n",
        "        'UTILIDADES_ACUMULADAS',\n",
        "        'UTILIDAD_O_PERDIDA',\n",
        "        'TOTAL_VENTAS',\n",
        "        'TOTAL_COMPRAS',\n",
        "        'UTILIDAD_BRUTA',\n",
        "        'TOTAL_GASTOS',\n",
        "    ]\n",
        ")\n",
        "s_1.fit(X_test)\n",
        "X_test = s_1.transform(X_test)"
      ],
      "execution_count": null,
      "outputs": [
        {
          "output_type": "stream",
          "text": [
            "/usr/local/lib/python3.6/dist-packages/pandas/core/indexing.py:671: SettingWithCopyWarning: \n",
            "A value is trying to be set on a copy of a slice from a DataFrame\n",
            "\n",
            "See the caveats in the documentation: https://pandas.pydata.org/pandas-docs/stable/user_guide/indexing.html#returning-a-view-versus-a-copy\n",
            "  self._setitem_with_indexer(indexer, value)\n",
            "/usr/local/lib/python3.6/dist-packages/ipykernel_launcher.py:32: SettingWithCopyWarning: \n",
            "A value is trying to be set on a copy of a slice from a DataFrame\n",
            "\n",
            "See the caveats in the documentation: https://pandas.pydata.org/pandas-docs/stable/user_guide/indexing.html#returning-a-view-versus-a-copy\n",
            "/usr/local/lib/python3.6/dist-packages/pandas/core/indexing.py:671: SettingWithCopyWarning: \n",
            "A value is trying to be set on a copy of a slice from a DataFrame\n",
            "\n",
            "See the caveats in the documentation: https://pandas.pydata.org/pandas-docs/stable/user_guide/indexing.html#returning-a-view-versus-a-copy\n",
            "  self._setitem_with_indexer(indexer, value)\n",
            "/usr/local/lib/python3.6/dist-packages/ipykernel_launcher.py:32: SettingWithCopyWarning: \n",
            "A value is trying to be set on a copy of a slice from a DataFrame\n",
            "\n",
            "See the caveats in the documentation: https://pandas.pydata.org/pandas-docs/stable/user_guide/indexing.html#returning-a-view-versus-a-copy\n",
            "/usr/local/lib/python3.6/dist-packages/pandas/core/indexing.py:671: SettingWithCopyWarning: \n",
            "A value is trying to be set on a copy of a slice from a DataFrame\n",
            "\n",
            "See the caveats in the documentation: https://pandas.pydata.org/pandas-docs/stable/user_guide/indexing.html#returning-a-view-versus-a-copy\n",
            "  self._setitem_with_indexer(indexer, value)\n",
            "/usr/local/lib/python3.6/dist-packages/ipykernel_launcher.py:32: SettingWithCopyWarning: \n",
            "A value is trying to be set on a copy of a slice from a DataFrame\n",
            "\n",
            "See the caveats in the documentation: https://pandas.pydata.org/pandas-docs/stable/user_guide/indexing.html#returning-a-view-versus-a-copy\n",
            "/usr/local/lib/python3.6/dist-packages/pandas/core/indexing.py:671: SettingWithCopyWarning: \n",
            "A value is trying to be set on a copy of a slice from a DataFrame\n",
            "\n",
            "See the caveats in the documentation: https://pandas.pydata.org/pandas-docs/stable/user_guide/indexing.html#returning-a-view-versus-a-copy\n",
            "  self._setitem_with_indexer(indexer, value)\n",
            "/usr/local/lib/python3.6/dist-packages/ipykernel_launcher.py:32: SettingWithCopyWarning: \n",
            "A value is trying to be set on a copy of a slice from a DataFrame\n",
            "\n",
            "See the caveats in the documentation: https://pandas.pydata.org/pandas-docs/stable/user_guide/indexing.html#returning-a-view-versus-a-copy\n",
            "/usr/local/lib/python3.6/dist-packages/pandas/core/indexing.py:671: SettingWithCopyWarning: \n",
            "A value is trying to be set on a copy of a slice from a DataFrame\n",
            "\n",
            "See the caveats in the documentation: https://pandas.pydata.org/pandas-docs/stable/user_guide/indexing.html#returning-a-view-versus-a-copy\n",
            "  self._setitem_with_indexer(indexer, value)\n",
            "/usr/local/lib/python3.6/dist-packages/ipykernel_launcher.py:32: SettingWithCopyWarning: \n",
            "A value is trying to be set on a copy of a slice from a DataFrame\n",
            "\n",
            "See the caveats in the documentation: https://pandas.pydata.org/pandas-docs/stable/user_guide/indexing.html#returning-a-view-versus-a-copy\n",
            "/usr/local/lib/python3.6/dist-packages/pandas/core/indexing.py:671: SettingWithCopyWarning: \n",
            "A value is trying to be set on a copy of a slice from a DataFrame\n",
            "\n",
            "See the caveats in the documentation: https://pandas.pydata.org/pandas-docs/stable/user_guide/indexing.html#returning-a-view-versus-a-copy\n",
            "  self._setitem_with_indexer(indexer, value)\n",
            "/usr/local/lib/python3.6/dist-packages/ipykernel_launcher.py:32: SettingWithCopyWarning: \n",
            "A value is trying to be set on a copy of a slice from a DataFrame\n",
            "\n",
            "See the caveats in the documentation: https://pandas.pydata.org/pandas-docs/stable/user_guide/indexing.html#returning-a-view-versus-a-copy\n"
          ],
          "name": "stderr"
        }
      ]
    },
    {
      "cell_type": "code",
      "metadata": {
        "id": "-fUpihtimu9i",
        "colab_type": "code",
        "colab": {}
      },
      "source": [
        "##########\n",
        "from sklearn.impute import KNNImputer\n",
        "imputer = KNNImputer(n_neighbors=51) #arbitrary\n",
        "X_values = imputer.fit_transform(X_test.values)\n",
        "X_test.loc[:,:] = X_values"
      ],
      "execution_count": null,
      "outputs": []
    },
    {
      "cell_type": "code",
      "metadata": {
        "id": "ow5Vo4PnjQUz",
        "colab_type": "code",
        "colab": {
          "base_uri": "https://localhost:8080/",
          "height": 66
        },
        "outputId": "07226b1c-5283-47ef-870a-3a1d37daea50"
      },
      "source": [
        "undersampler = RandomUnderSampler(sampling_strategy='majority')\n",
        "X_test, y_test = undersampler.fit_sample(X_test, y_test)\n",
        "print(y_test.shape)"
      ],
      "execution_count": null,
      "outputs": [
        {
          "output_type": "stream",
          "text": [
            "(234,)\n"
          ],
          "name": "stdout"
        },
        {
          "output_type": "stream",
          "text": [
            "/usr/local/lib/python3.6/dist-packages/sklearn/utils/deprecation.py:87: FutureWarning: Function safe_indexing is deprecated; safe_indexing is deprecated in version 0.22 and will be removed in version 0.24.\n",
            "  warnings.warn(msg, category=FutureWarning)\n"
          ],
          "name": "stderr"
        }
      ]
    },
    {
      "cell_type": "code",
      "metadata": {
        "id": "5b-I3pAiU6b5",
        "colab_type": "code",
        "colab": {
          "base_uri": "https://localhost:8080/",
          "height": 1000
        },
        "outputId": "dcacaa31-275e-48df-d41d-26e4af9f0131"
      },
      "source": [
        "pipeline.fit(X_train, y_train) \n",
        "y_pred = pipeline.predict(X_test)"
      ],
      "execution_count": null,
      "outputs": [
        {
          "output_type": "stream",
          "text": [
            "/usr/local/lib/python3.6/dist-packages/pandas/core/indexing.py:671: SettingWithCopyWarning: \n",
            "A value is trying to be set on a copy of a slice from a DataFrame\n",
            "\n",
            "See the caveats in the documentation: https://pandas.pydata.org/pandas-docs/stable/user_guide/indexing.html#returning-a-view-versus-a-copy\n",
            "  self._setitem_with_indexer(indexer, value)\n",
            "/usr/local/lib/python3.6/dist-packages/ipykernel_launcher.py:32: SettingWithCopyWarning: \n",
            "A value is trying to be set on a copy of a slice from a DataFrame\n",
            "\n",
            "See the caveats in the documentation: https://pandas.pydata.org/pandas-docs/stable/user_guide/indexing.html#returning-a-view-versus-a-copy\n",
            "/usr/local/lib/python3.6/dist-packages/pandas/core/indexing.py:671: SettingWithCopyWarning: \n",
            "A value is trying to be set on a copy of a slice from a DataFrame\n",
            "\n",
            "See the caveats in the documentation: https://pandas.pydata.org/pandas-docs/stable/user_guide/indexing.html#returning-a-view-versus-a-copy\n",
            "  self._setitem_with_indexer(indexer, value)\n",
            "/usr/local/lib/python3.6/dist-packages/ipykernel_launcher.py:32: SettingWithCopyWarning: \n",
            "A value is trying to be set on a copy of a slice from a DataFrame\n",
            "\n",
            "See the caveats in the documentation: https://pandas.pydata.org/pandas-docs/stable/user_guide/indexing.html#returning-a-view-versus-a-copy\n",
            "/usr/local/lib/python3.6/dist-packages/pandas/core/indexing.py:671: SettingWithCopyWarning: \n",
            "A value is trying to be set on a copy of a slice from a DataFrame\n",
            "\n",
            "See the caveats in the documentation: https://pandas.pydata.org/pandas-docs/stable/user_guide/indexing.html#returning-a-view-versus-a-copy\n",
            "  self._setitem_with_indexer(indexer, value)\n",
            "/usr/local/lib/python3.6/dist-packages/ipykernel_launcher.py:32: SettingWithCopyWarning: \n",
            "A value is trying to be set on a copy of a slice from a DataFrame\n",
            "\n",
            "See the caveats in the documentation: https://pandas.pydata.org/pandas-docs/stable/user_guide/indexing.html#returning-a-view-versus-a-copy\n",
            "/usr/local/lib/python3.6/dist-packages/pandas/core/indexing.py:671: SettingWithCopyWarning: \n",
            "A value is trying to be set on a copy of a slice from a DataFrame\n",
            "\n",
            "See the caveats in the documentation: https://pandas.pydata.org/pandas-docs/stable/user_guide/indexing.html#returning-a-view-versus-a-copy\n",
            "  self._setitem_with_indexer(indexer, value)\n",
            "/usr/local/lib/python3.6/dist-packages/ipykernel_launcher.py:32: SettingWithCopyWarning: \n",
            "A value is trying to be set on a copy of a slice from a DataFrame\n",
            "\n",
            "See the caveats in the documentation: https://pandas.pydata.org/pandas-docs/stable/user_guide/indexing.html#returning-a-view-versus-a-copy\n",
            "/usr/local/lib/python3.6/dist-packages/pandas/core/indexing.py:671: SettingWithCopyWarning: \n",
            "A value is trying to be set on a copy of a slice from a DataFrame\n",
            "\n",
            "See the caveats in the documentation: https://pandas.pydata.org/pandas-docs/stable/user_guide/indexing.html#returning-a-view-versus-a-copy\n",
            "  self._setitem_with_indexer(indexer, value)\n",
            "/usr/local/lib/python3.6/dist-packages/ipykernel_launcher.py:32: SettingWithCopyWarning: \n",
            "A value is trying to be set on a copy of a slice from a DataFrame\n",
            "\n",
            "See the caveats in the documentation: https://pandas.pydata.org/pandas-docs/stable/user_guide/indexing.html#returning-a-view-versus-a-copy\n",
            "/usr/local/lib/python3.6/dist-packages/sklearn/utils/deprecation.py:87: FutureWarning: Function safe_indexing is deprecated; safe_indexing is deprecated in version 0.22 and will be removed in version 0.24.\n",
            "  warnings.warn(msg, category=FutureWarning)\n",
            "/usr/local/lib/python3.6/dist-packages/sklearn/utils/deprecation.py:87: FutureWarning: Function safe_indexing is deprecated; safe_indexing is deprecated in version 0.22 and will be removed in version 0.24.\n",
            "  warnings.warn(msg, category=FutureWarning)\n",
            "/usr/local/lib/python3.6/dist-packages/sklearn/utils/deprecation.py:87: FutureWarning: Function safe_indexing is deprecated; safe_indexing is deprecated in version 0.22 and will be removed in version 0.24.\n",
            "  warnings.warn(msg, category=FutureWarning)\n"
          ],
          "name": "stderr"
        },
        {
          "output_type": "stream",
          "text": [
            "Epoch 1/50\n",
            "1405/1405 [==============================] - 2s 1ms/step - loss: 0.2503 - accuracy: 0.8918\n",
            "Epoch 2/50\n",
            "1405/1405 [==============================] - 2s 1ms/step - loss: 0.1795 - accuracy: 0.9262\n",
            "Epoch 3/50\n",
            "1405/1405 [==============================] - 2s 1ms/step - loss: 0.1677 - accuracy: 0.9285\n",
            "Epoch 4/50\n",
            "1405/1405 [==============================] - 2s 1ms/step - loss: 0.1575 - accuracy: 0.9368\n",
            "Epoch 5/50\n",
            "1405/1405 [==============================] - 2s 1ms/step - loss: 0.1584 - accuracy: 0.9370\n",
            "Epoch 6/50\n",
            "1405/1405 [==============================] - 2s 1ms/step - loss: 0.1541 - accuracy: 0.9395\n",
            "Epoch 7/50\n",
            "1405/1405 [==============================] - 2s 1ms/step - loss: 0.1541 - accuracy: 0.9399\n",
            "Epoch 8/50\n",
            "1405/1405 [==============================] - 2s 1ms/step - loss: 0.1471 - accuracy: 0.9411\n",
            "Epoch 9/50\n",
            "1405/1405 [==============================] - 2s 1ms/step - loss: 0.1461 - accuracy: 0.9416\n",
            "Epoch 10/50\n",
            "1405/1405 [==============================] - 2s 1ms/step - loss: 0.1423 - accuracy: 0.9438\n",
            "Epoch 11/50\n",
            "1405/1405 [==============================] - 2s 1ms/step - loss: 0.1419 - accuracy: 0.9395\n",
            "Epoch 12/50\n",
            "1405/1405 [==============================] - 2s 1ms/step - loss: 0.1413 - accuracy: 0.9441\n",
            "Epoch 13/50\n",
            "1405/1405 [==============================] - 2s 1ms/step - loss: 0.1391 - accuracy: 0.9470\n",
            "Epoch 14/50\n",
            "1405/1405 [==============================] - 2s 1ms/step - loss: 0.1446 - accuracy: 0.9447\n",
            "Epoch 15/50\n",
            "1405/1405 [==============================] - 2s 1ms/step - loss: 0.1340 - accuracy: 0.9468\n",
            "Epoch 16/50\n",
            "1405/1405 [==============================] - 2s 1ms/step - loss: 0.1345 - accuracy: 0.9473\n",
            "Epoch 17/50\n",
            "1405/1405 [==============================] - 2s 1ms/step - loss: 0.1347 - accuracy: 0.9452\n",
            "Epoch 18/50\n",
            "1405/1405 [==============================] - 2s 1ms/step - loss: 0.1322 - accuracy: 0.9482\n",
            "Epoch 19/50\n",
            "1405/1405 [==============================] - 2s 1ms/step - loss: 0.1329 - accuracy: 0.9484\n",
            "Epoch 20/50\n",
            "1405/1405 [==============================] - 2s 1ms/step - loss: 0.1369 - accuracy: 0.9441\n",
            "Epoch 21/50\n",
            "1405/1405 [==============================] - 2s 1ms/step - loss: 0.1400 - accuracy: 0.9438\n",
            "Epoch 22/50\n",
            "1405/1405 [==============================] - 2s 1ms/step - loss: 0.1371 - accuracy: 0.9468\n",
            "Epoch 23/50\n",
            "1405/1405 [==============================] - 2s 1ms/step - loss: 0.1365 - accuracy: 0.9489\n",
            "Epoch 24/50\n",
            "1405/1405 [==============================] - 2s 1ms/step - loss: 0.1308 - accuracy: 0.9489\n",
            "Epoch 25/50\n",
            "1405/1405 [==============================] - 2s 1ms/step - loss: 0.1274 - accuracy: 0.9505\n",
            "Epoch 26/50\n",
            "1405/1405 [==============================] - 2s 1ms/step - loss: 0.1306 - accuracy: 0.9518\n",
            "Epoch 27/50\n",
            "1405/1405 [==============================] - 2s 1ms/step - loss: 0.1295 - accuracy: 0.9509\n",
            "Epoch 28/50\n",
            "1405/1405 [==============================] - 2s 1ms/step - loss: 0.1339 - accuracy: 0.9521\n",
            "Epoch 29/50\n",
            "1405/1405 [==============================] - 2s 1ms/step - loss: 0.1297 - accuracy: 0.9495\n",
            "Epoch 30/50\n",
            "1405/1405 [==============================] - 2s 1ms/step - loss: 0.1284 - accuracy: 0.9488\n",
            "Epoch 31/50\n",
            "1405/1405 [==============================] - 2s 1ms/step - loss: 0.1291 - accuracy: 0.9521\n",
            "Epoch 32/50\n",
            "1405/1405 [==============================] - 2s 1ms/step - loss: 0.1259 - accuracy: 0.9521\n",
            "Epoch 33/50\n",
            "1405/1405 [==============================] - 2s 1ms/step - loss: 0.1259 - accuracy: 0.9511\n",
            "Epoch 34/50\n",
            "1405/1405 [==============================] - 2s 1ms/step - loss: 0.1271 - accuracy: 0.9516\n",
            "Epoch 35/50\n",
            "1405/1405 [==============================] - 2s 1ms/step - loss: 0.1325 - accuracy: 0.9518\n",
            "Epoch 36/50\n",
            "1405/1405 [==============================] - 2s 1ms/step - loss: 0.1241 - accuracy: 0.9498\n",
            "Epoch 37/50\n",
            "1405/1405 [==============================] - 2s 1ms/step - loss: 0.1263 - accuracy: 0.9507\n",
            "Epoch 38/50\n",
            "1405/1405 [==============================] - 2s 1ms/step - loss: 0.1228 - accuracy: 0.9530\n",
            "Epoch 39/50\n",
            "1405/1405 [==============================] - 2s 1ms/step - loss: 0.1256 - accuracy: 0.9528\n",
            "Epoch 40/50\n",
            "1405/1405 [==============================] - 2s 1ms/step - loss: 0.1248 - accuracy: 0.9511\n",
            "Epoch 41/50\n",
            "1405/1405 [==============================] - 2s 1ms/step - loss: 0.1205 - accuracy: 0.9548\n",
            "Epoch 42/50\n",
            "1405/1405 [==============================] - 2s 1ms/step - loss: 0.1255 - accuracy: 0.9511\n",
            "Epoch 43/50\n",
            "1405/1405 [==============================] - 2s 1ms/step - loss: 0.1216 - accuracy: 0.9516\n",
            "Epoch 44/50\n",
            "1405/1405 [==============================] - 2s 1ms/step - loss: 0.1187 - accuracy: 0.9537\n",
            "Epoch 45/50\n",
            "1405/1405 [==============================] - 2s 1ms/step - loss: 0.1217 - accuracy: 0.9571\n",
            "Epoch 46/50\n",
            "1405/1405 [==============================] - 2s 1ms/step - loss: 0.1211 - accuracy: 0.9516\n",
            "Epoch 47/50\n",
            "1405/1405 [==============================] - 2s 1ms/step - loss: 0.1207 - accuracy: 0.9539\n",
            "Epoch 48/50\n",
            "1405/1405 [==============================] - 2s 1ms/step - loss: 0.1175 - accuracy: 0.9528\n",
            "Epoch 49/50\n",
            "1405/1405 [==============================] - 2s 1ms/step - loss: 0.1214 - accuracy: 0.9530\n",
            "Epoch 50/50\n",
            "1405/1405 [==============================] - 2s 1ms/step - loss: 0.1200 - accuracy: 0.9564\n",
            "59/59 [==============================] - 0s 763us/step\n"
          ],
          "name": "stdout"
        }
      ]
    },
    {
      "cell_type": "code",
      "metadata": {
        "id": "u-pPDHMs8yRK",
        "colab_type": "code",
        "colab": {
          "base_uri": "https://localhost:8080/",
          "height": 353
        },
        "outputId": "896146a3-61b0-4feb-ad65-70c7b5687a66"
      },
      "source": [
        "\n",
        "from sklearn.metrics import confusion_matrix\n",
        "\n",
        "cf_matrix = confusion_matrix(y_test, y_pred)\n",
        "group_names = ['Aprobado `Aceptado`', 'Refused `Sospechoso`', 'Refused `Aceptado`', 'Aprobado `Sospechoso`']\n",
        "group_counts = ['{0:0.0f}'.format(value) for value in cf_matrix.flatten()]\n",
        "group_percentages = ['{0:.2%}'.format(value) for value in cf_matrix.flatten()/np.sum(cf_matrix)]\n",
        "labels = [f'{v1}\\n{v2}\\n{v3}' for v1, v2, v3 in zip(group_names, group_counts, group_percentages)]\n",
        "labels = np.asarray(labels).reshape(2,2)\n",
        "accuracy  = np.trace(cf_matrix) / float(np.sum(cf_matrix))\n",
        "precision = cf_matrix[1,1] / sum(cf_matrix[:,1])\n",
        "recall    = cf_matrix[1,1] / sum(cf_matrix[1,:])\n",
        "f1_score  = 2*precision*recall / (precision + recall)\n",
        "sns.heatmap(cf_matrix, annot=labels, fmt='')\n",
        "stats_text = \"\\n\\nAccuracy={:0.3f}\\nPrecision={:0.3f}\\nRecall={:0.3f}\\nF1 Score={}\".format(accuracy, precision, recall, f1_score)\n",
        "plt.ylabel('True label')\n",
        "plt.xlabel('Predicted label' + stats_text)"
      ],
      "execution_count": null,
      "outputs": [
        {
          "output_type": "execute_result",
          "data": {
            "text/plain": [
              "Text(0.5, 15.0, 'Predicted label\\n\\nAccuracy=0.902\\nPrecision=0.912\\nRecall=0.889\\nF1 Score=0.9004329004329005')"
            ]
          },
          "metadata": {
            "tags": []
          },
          "execution_count": 130
        },
        {
          "output_type": "display_data",
          "data": {
            "image/png": "[encoded data removed]",
            "text/plain": [
              "<Figure size 432x288 with 2 Axes>"
            ]
          },
          "metadata": {
            "tags": [],
            "needs_background": "light"
          }
        }
      ]
    },
    {
      "cell_type": "code",
      "metadata": {
        "id": "t0Qg37VNuc-R",
        "colab_type": "code",
        "colab": {}
      },
      "source": [
        "#https://onezero.blog/hyperparameter-tuning-of-keras-deep-learning-model-in-python/\n",
        "#https://media.discordapp.net/attachments/739255396748754985/748313124880515092/unknown.png"
      ],
      "execution_count": null,
      "outputs": []
    },
    {
      "cell_type": "markdown",
      "metadata": {
        "id": "pP7sWUH7udU1",
        "colab_type": "text"
      },
      "source": [
        ""
      ]
    },
    {
      "cell_type": "markdown",
      "metadata": {
        "id": "XtdsiySNU6b8",
        "colab_type": "text"
      },
      "source": [
        "#### Transformación 3: tratamiento de datos faltantes\n",
        "\n",
        "Para manejar los datos que faltan en nuestro conjunto de datos, ahora usaremos una transformación lista para usar de la biblioteca scikit-learn, llamada SimpleImputer.\n",
        "\n",
        "Esta transformación permite varias estrategias para el tratamiento de datos faltantes. La documentación oficial se puede encontrar en: https://scikit-learn.org/stable/modules/generated/sklearn.impute.SimpleImputer.html\n",
        "\n",
        "En este ejemplo, simplemente haremos cero todos los valores faltante usted puede escoger otra estrategia ;)."
      ]
    },
    {
      "cell_type": "code",
      "metadata": {
        "id": "aKSe5T6pU6b8",
        "colab_type": "code",
        "colab": {}
      },
      "source": [
        "# Crear un objeto ``SimpleImputer``\n",
        "si = SimpleImputer(\n",
        "    missing_values=np.nan,  # los valores que faltan son del tipo ``np.nan`` (Pandas estándar)\n",
        "    strategy='constant',  # la estrategia elegida es cambiar el valor faltante por una constante\n",
        "    fill_value=0,  # la constante que se usará para completar los valores faltantes es un int64 = 0\n",
        "    verbose=0,\n",
        "    copy=True\n",
        ")\n",
        "\n",
        "print(si)"
      ],
      "execution_count": null,
      "outputs": []
    },
    {
      "cell_type": "code",
      "metadata": {
        "id": "jP3pGZT9U6b-",
        "colab_type": "code",
        "colab": {}
      },
      "source": [
        "# Ver los datos faltantes del conjunto de datos antes de la primera transformación (df_data_2)\n",
        "print(\"Valores nulos antes de la transformación SimpleImputer: \\n\\n{}\\n\".format(df2.isnull().sum(axis = 0)))\n",
        "\n",
        "# Aplicamos el SimpleImputer ``si`` al conjunto de datos df_data_2 (resultado de la primera transformación)\n",
        "si.fit(X=df2)\n",
        "\n",
        "# Reconstrucción de un nuevo DataFrame de Pandas con el conjunto imputado (df_data_3)\n",
        "df3 = pd.DataFrame.from_records(\n",
        "    data=si.transform(\n",
        "        X=df2\n",
        "    ),  # el resultado SimpleImputer.transform (<< pandas dataframe >>) es lista lista\n",
        "    columns=df2.columns  # las columnas originales deben conservarse en esta transformación\n",
        ")\n",
        "\n",
        "# Ver los datos faltantes del conjunto de datos después de la segunda transformación (SimpleImputer) (df_data_3)\n",
        "print(\"\\n\\nValores nulos en el conjunto de datos después de la transformación SimpleImputer: \\n\\n{}\\n\".format(df3.isnull().sum(axis = 0)))"
      ],
      "execution_count": null,
      "outputs": []
    },
    {
      "cell_type": "markdown",
      "metadata": {
        "id": "Pupt24ReU6cA",
        "colab_type": "text"
      },
      "source": [
        "#### Definición de features (Variables Independientes)\n",
        "\n",
        "En este * ejemplo * usaremos todas las columnas. (Usted debe decidir cuales variables utilizar)"
      ]
    },
    {
      "cell_type": "code",
      "metadata": {
        "id": "ibbbS5eIU6cA",
        "colab_type": "code",
        "colab": {}
      },
      "source": [
        "# Definiendo las variables features y target (removed CXC and CXP)\n",
        "\n",
        "features = df3[\n",
        "    [\n",
        "        'EFECTIVO',\n",
        "        'INVENTARIO',\n",
        "        'EQ_OFICINA',\n",
        "        'EQ_TRANSPORTE',\n",
        "        'TERRENOS_Y_CONSTRUCCIONES',\n",
        "        'CONTRIBUCIONES_X_PAGAR',\n",
        "        'ANTICIPOS_CTE',\n",
        "        'CAP_SOCIAL',\n",
        "        'UTILIDADES_ACUMULADAS',\n",
        "        'UTILIDAD_O_PERDIDA',\n",
        "        'TOTAL_VENTAS',\n",
        "        'TOTAL_COMPRAS',\n",
        "        'UTILIDAD_BRUTA',\n",
        "        'TOTAL_GASTOS',\n",
        "    ]\n",
        "]\n",
        "target = df3[\"OBJETIVO\"]  ## No cambie la variable target!"
      ],
      "execution_count": null,
      "outputs": []
    },
    {
      "cell_type": "markdown",
      "metadata": {
        "id": "c5gaeoZ3U6cC",
        "colab_type": "text"
      },
      "source": [
        "#### División en 80% entrenamiento y 20% pruebas"
      ]
    },
    {
      "cell_type": "code",
      "metadata": {
        "id": "ctqnXuI4U6cC",
        "colab_type": "code",
        "colab": {}
      },
      "source": [
        "X_train, X_test, y_train, y_test = train_test_split(features, target, test_size=0.2, random_state=None)"
      ],
      "execution_count": null,
      "outputs": []
    },
    {
      "cell_type": "markdown",
      "metadata": {
        "id": "aw47N-U1U6cE",
        "colab_type": "text"
      },
      "source": [
        "#### Entrenando un modelo ``DecisionTreeClassifier()``"
      ]
    },
    {
      "cell_type": "code",
      "metadata": {
        "id": "BgDE_apKU6cE",
        "colab_type": "code",
        "colab": {}
      },
      "source": [
        "# Método para creacion de modelos basados en arbol de desición\n",
        "from sklearn.tree import DecisionTreeClassifier\n",
        "\n",
        "dtc_model = DecisionTreeClassifier(max_depth=3)\n",
        "model = dtc_model.fit(X_train, y_train)"
      ],
      "execution_count": null,
      "outputs": []
    },
    {
      "cell_type": "markdown",
      "metadata": {
        "id": "QDopBMBVU6cG",
        "colab_type": "text"
      },
      "source": [
        "#### Haciendo una predicción con el set de prueba"
      ]
    },
    {
      "cell_type": "code",
      "metadata": {
        "scrolled": true,
        "id": "2JDT6ohJU6cH",
        "colab_type": "code",
        "colab": {}
      },
      "source": [
        "y_pred = dtc_model.predict(X_test)\n",
        "print(y_pred)"
      ],
      "execution_count": null,
      "outputs": []
    },
    {
      "cell_type": "markdown",
      "metadata": {
        "id": "AOspTzIkU6cI",
        "colab_type": "text"
      },
      "source": [
        "#### Analizar la calidad del modelo a través de la matriz de confusión"
      ]
    },
    {
      "cell_type": "code",
      "metadata": {
        "id": "28k7Aq6mU6cJ",
        "colab_type": "code",
        "colab": {}
      },
      "source": [
        "\n",
        "from sklearn.metrics import confusion_matrix\n",
        "\n",
        "cf_matrix = confusion_matrix(y_test, y_pred)\n",
        "group_names = ['Aprobado `Aceptado`', 'Refused `Sospechoso`', 'Refused `Aceptado`', 'Aprobado `Sospechoso`']\n",
        "group_counts = ['{0:0.0f}'.format(value) for value in cf_matrix.flatten()]\n",
        "group_percentages = ['{0:.2%}'.format(value) for value in cf_matrix.flatten()/np.sum(cf_matrix)]\n",
        "labels = [f'{v1}\\n{v2}\\n{v3}' for v1, v2, v3 in zip(group_names, group_counts, group_percentages)]\n",
        "labels = np.asarray(labels).reshape(2,2)\n",
        "accuracy  = np.trace(cf_matrix) / float(np.sum(cf_matrix))\n",
        "precision = cf_matrix[1,1] / sum(cf_matrix[:,1])\n",
        "recall    = cf_matrix[1,1] / sum(cf_matrix[1,:])\n",
        "f1_score  = 2*precision*recall / (precision + recall)\n",
        "sns.heatmap(cf_matrix, annot=labels, fmt='')\n",
        "stats_text = \"\\n\\nAccuracy={:0.3f}\\nPrecision={:0.3f}\\nRecall={:0.3f}\\nF1 Score={}\".format(accuracy, precision, recall, f1_score)\n",
        "plt.ylabel('True label')\n",
        "plt.xlabel('Predicted label' + stats_text)"
      ],
      "execution_count": null,
      "outputs": []
    },
    {
      "cell_type": "markdown",
      "metadata": {
        "id": "FuTR4qQBU6cL",
        "colab_type": "text"
      },
      "source": [
        "##### ¡ATENCIÓN! Su puntuación en este desafío de clasificación se basará en la puntuación F1 del modelo al predecir el dataset de evaluación."
      ]
    },
    {
      "cell_type": "markdown",
      "metadata": {
        "id": "EdpiJJUDU6cL",
        "colab_type": "text"
      },
      "source": [
        "<hr>"
      ]
    },
    {
      "cell_type": "markdown",
      "metadata": {
        "id": "B79d4B93U6cL",
        "colab_type": "text"
      },
      "source": [
        "## Puntuación de los datos necesarios para entregar la solución\n",
        "\n",
        "Como entrega de su solución, esperamos que los resultados se clasifiquen en el siguiente conjunto de datos llamado \"to_be_scored_compusoluciones.csv\":\n",
        "\n",
        "### Descarga la \"hoja de evaluación\""
      ]
    },
    {
      "cell_type": "code",
      "metadata": {
        "id": "nldPTyUvU6cL",
        "colab_type": "code",
        "colab": {
          "base_uri": "https://localhost:8080/",
          "height": 390
        },
        "outputId": "169b8850-ed7f-4ad0-8a1b-56912bd55243"
      },
      "source": [
        "!wget --no-check-certificate --content-disposition https://raw.githubusercontent.com/vanderlei-test/dataset/master/to_be_scored_compusoluciones.csv\n",
        "df_to_be_scored = pd.read_csv(r'to_be_scored_compusoluciones.csv')\n",
        "df_to_be_scored.tail()"
      ],
      "execution_count": null,
      "outputs": [
        {
          "output_type": "stream",
          "text": [
            "--2020-09-10 17:42:53--  https://raw.githubusercontent.com/vanderlei-test/dataset/master/to_be_scored_compusoluciones.csv\n",
            "Resolving raw.githubusercontent.com (raw.githubusercontent.com)... 151.101.0.133, 151.101.64.133, 151.101.128.133, ...\n",
            "Connecting to raw.githubusercontent.com (raw.githubusercontent.com)|151.101.0.133|:443... connected.\n",
            "HTTP request sent, awaiting response... 200 OK\n",
            "Length: 100124 (98K) [text/plain]\n",
            "Saving to: ‘to_be_scored_compusoluciones.csv’\n",
            "\n",
            "to_be_scored_compus 100%[===================>]  97.78K  --.-KB/s    in 0.04s   \n",
            "\n",
            "2020-09-10 17:42:54 (2.61 MB/s) - ‘to_be_scored_compusoluciones.csv’ saved [100124/100124]\n",
            "\n"
          ],
          "name": "stdout"
        },
        {
          "output_type": "execute_result",
          "data": {
            "text/html": [
              "<div>\n",
              "<style scoped>\n",
              "    .dataframe tbody tr th:only-of-type {\n",
              "        vertical-align: middle;\n",
              "    }\n",
              "\n",
              "    .dataframe tbody tr th {\n",
              "        vertical-align: top;\n",
              "    }\n",
              "\n",
              "    .dataframe thead th {\n",
              "        text-align: right;\n",
              "    }\n",
              "</style>\n",
              "<table border=\"1\" class=\"dataframe\">\n",
              "  <thead>\n",
              "    <tr style=\"text-align: right;\">\n",
              "      <th></th>\n",
              "      <th>EFECTIVO</th>\n",
              "      <th>CXC</th>\n",
              "      <th>INVENTARIO</th>\n",
              "      <th>EQ_OFICINA</th>\n",
              "      <th>EQ_TRANSPORTE</th>\n",
              "      <th>TERRENOS_Y_CONSTRUCCIONES</th>\n",
              "      <th>CXP</th>\n",
              "      <th>CONTRIBUCIONES_X_PAGAR</th>\n",
              "      <th>ANTICIPOS_CTE</th>\n",
              "      <th>CAP_SOCIAL</th>\n",
              "      <th>UTILIDADES_ACUMULADAS</th>\n",
              "      <th>UTILIDAD_O_PERDIDA</th>\n",
              "      <th>TOTAL_VENTAS</th>\n",
              "      <th>TOTAL_COMPRAS</th>\n",
              "      <th>UTILIDAD_BRUTA</th>\n",
              "      <th>TOTAL_GASTOS</th>\n",
              "    </tr>\n",
              "  </thead>\n",
              "  <tbody>\n",
              "    <tr>\n",
              "      <th>595</th>\n",
              "      <td>3.893725e+06</td>\n",
              "      <td>5.279410e+06</td>\n",
              "      <td>9.811669e+02</td>\n",
              "      <td>1.757291e+07</td>\n",
              "      <td>3.989011e+06</td>\n",
              "      <td>-1.545727e+07</td>\n",
              "      <td>2.497177e+06</td>\n",
              "      <td>103003.8264</td>\n",
              "      <td>2402813.337</td>\n",
              "      <td>NaN</td>\n",
              "      <td>1.751228e+07</td>\n",
              "      <td>-4050340.635</td>\n",
              "      <td>8.830412e+07</td>\n",
              "      <td>1.147548e+08</td>\n",
              "      <td>NaN</td>\n",
              "      <td>1.858752e+06</td>\n",
              "    </tr>\n",
              "    <tr>\n",
              "      <th>596</th>\n",
              "      <td>8.806031e+05</td>\n",
              "      <td>3.354813e+07</td>\n",
              "      <td>NaN</td>\n",
              "      <td>5.241604e+06</td>\n",
              "      <td>NaN</td>\n",
              "      <td>-1.727618e+06</td>\n",
              "      <td>4.021914e+07</td>\n",
              "      <td>821297.6732</td>\n",
              "      <td>3154291.078</td>\n",
              "      <td>NaN</td>\n",
              "      <td>1.636395e+07</td>\n",
              "      <td>-2394015.114</td>\n",
              "      <td>1.257229e+08</td>\n",
              "      <td>7.169861e+07</td>\n",
              "      <td>2.675382e+07</td>\n",
              "      <td>2.455403e+07</td>\n",
              "    </tr>\n",
              "    <tr>\n",
              "      <th>597</th>\n",
              "      <td>NaN</td>\n",
              "      <td>2.711050e+07</td>\n",
              "      <td>3.260820e+06</td>\n",
              "      <td>4.681080e+06</td>\n",
              "      <td>NaN</td>\n",
              "      <td>-3.291876e+06</td>\n",
              "      <td>3.763157e+07</td>\n",
              "      <td>NaN</td>\n",
              "      <td>1861471.266</td>\n",
              "      <td>942635.7885</td>\n",
              "      <td>7.126997e+06</td>\n",
              "      <td>NaN</td>\n",
              "      <td>6.531900e+07</td>\n",
              "      <td>1.014415e+08</td>\n",
              "      <td>2.333685e+07</td>\n",
              "      <td>NaN</td>\n",
              "    </tr>\n",
              "    <tr>\n",
              "      <th>598</th>\n",
              "      <td>7.443979e+06</td>\n",
              "      <td>4.076322e+07</td>\n",
              "      <td>6.408235e+06</td>\n",
              "      <td>1.507174e+07</td>\n",
              "      <td>6.257927e+05</td>\n",
              "      <td>-7.237902e+06</td>\n",
              "      <td>6.080636e+07</td>\n",
              "      <td>NaN</td>\n",
              "      <td>5220998.681</td>\n",
              "      <td>NaN</td>\n",
              "      <td>9.928204e+06</td>\n",
              "      <td>-3351032.988</td>\n",
              "      <td>9.340985e+07</td>\n",
              "      <td>1.571700e+08</td>\n",
              "      <td>3.062958e+07</td>\n",
              "      <td>3.042192e+07</td>\n",
              "    </tr>\n",
              "    <tr>\n",
              "      <th>599</th>\n",
              "      <td>5.611681e+05</td>\n",
              "      <td>6.438914e+06</td>\n",
              "      <td>3.867058e+06</td>\n",
              "      <td>4.545890e+05</td>\n",
              "      <td>1.949220e+06</td>\n",
              "      <td>-3.280783e+06</td>\n",
              "      <td>NaN</td>\n",
              "      <td>427294.9401</td>\n",
              "      <td>3954071.593</td>\n",
              "      <td>532328.4053</td>\n",
              "      <td>1.823676e+07</td>\n",
              "      <td>-5664180.434</td>\n",
              "      <td>1.059266e+08</td>\n",
              "      <td>5.820347e+07</td>\n",
              "      <td>5.238135e+05</td>\n",
              "      <td>2.470879e+06</td>\n",
              "    </tr>\n",
              "  </tbody>\n",
              "</table>\n",
              "</div>"
            ],
            "text/plain": [
              "         EFECTIVO           CXC  ...  UTILIDAD_BRUTA  TOTAL_GASTOS\n",
              "595  3.893725e+06  5.279410e+06  ...             NaN  1.858752e+06\n",
              "596  8.806031e+05  3.354813e+07  ...    2.675382e+07  2.455403e+07\n",
              "597           NaN  2.711050e+07  ...    2.333685e+07           NaN\n",
              "598  7.443979e+06  4.076322e+07  ...    3.062958e+07  3.042192e+07\n",
              "599  5.611681e+05  6.438914e+06  ...    5.238135e+05  2.470879e+06\n",
              "\n",
              "[5 rows x 16 columns]"
            ]
          },
          "metadata": {
            "tags": []
          },
          "execution_count": 20
        }
      ]
    },
    {
      "cell_type": "markdown",
      "metadata": {
        "id": "tbiNMjoNU6cO",
        "colab_type": "text"
      },
      "source": [
        "# ¡Atención!\n",
        "\n",
        "El Dataframe ``to_be_scored_compusoluciones`` es su \"hoja de evaluación\". Tenga en cuenta que a la columna \"OBJETIVO\" le faltan datos en este ejemplo, que luego no se pueden usar para entrenar modelos de aprendizaje supervisado."
      ]
    },
    {
      "cell_type": "code",
      "metadata": {
        "id": "DcO5TFfsU6cP",
        "colab_type": "code",
        "colab": {
          "base_uri": "https://localhost:8080/",
          "height": 391
        },
        "outputId": "c30557f9-0d05-403a-8365-2124b7d76ba7"
      },
      "source": [
        "df_to_be_scored.info()"
      ],
      "execution_count": null,
      "outputs": [
        {
          "output_type": "stream",
          "text": [
            "<class 'pandas.core.frame.DataFrame'>\n",
            "RangeIndex: 600 entries, 0 to 599\n",
            "Data columns (total 16 columns):\n",
            " #   Column                     Non-Null Count  Dtype  \n",
            "---  ------                     --------------  -----  \n",
            " 0   EFECTIVO                   511 non-null    float64\n",
            " 1   CXC                        511 non-null    float64\n",
            " 2   INVENTARIO                 511 non-null    float64\n",
            " 3   EQ_OFICINA                 505 non-null    float64\n",
            " 4   EQ_TRANSPORTE              513 non-null    float64\n",
            " 5   TERRENOS_Y_CONSTRUCCIONES  513 non-null    float64\n",
            " 6   CXP                        523 non-null    float64\n",
            " 7   CONTRIBUCIONES_X_PAGAR     499 non-null    float64\n",
            " 8   ANTICIPOS_CTE              515 non-null    float64\n",
            " 9   CAP_SOCIAL                 504 non-null    float64\n",
            " 10  UTILIDADES_ACUMULADAS      496 non-null    float64\n",
            " 11  UTILIDAD_O_PERDIDA         514 non-null    float64\n",
            " 12  TOTAL_VENTAS               506 non-null    float64\n",
            " 13  TOTAL_COMPRAS              527 non-null    float64\n",
            " 14  UTILIDAD_BRUTA             501 non-null    float64\n",
            " 15  TOTAL_GASTOS               510 non-null    float64\n",
            "dtypes: float64(16)\n",
            "memory usage: 75.1 KB\n"
          ],
          "name": "stdout"
        }
      ]
    },
    {
      "cell_type": "markdown",
      "metadata": {
        "id": "Ga36nbv9U6cR",
        "colab_type": "text"
      },
      "source": [
        "<hr>\n",
        "\n",
        "# ¡Atención!\n",
        "\n",
        "# Para aplicar su modelo y clasificar la hoja de evaluación, primero debe aplicar las mismas transformaciones de columnas que aplicó al conjunto de datos de entrenamiento.\n",
        "\n",
        "# No elimine ni agregue líneas a la hoja de respuestas.\n",
        "\n",
        "# No cambie el orden de las líneas en la hoja de respuestas.\n",
        "\n",
        "# Al final, se deben clasificar las 600 entradas, con los valores calculados en la columna \"target\"\n",
        "\n",
        "<hr>"
      ]
    },
    {
      "cell_type": "code",
      "metadata": {
        "id": "08cxOswhxyh_",
        "colab_type": "code",
        "colab": {
          "base_uri": "https://localhost:8080/",
          "height": 211
        },
        "outputId": "1c9ef3c4-3dc3-48f5-e564-ce2f49849cda"
      },
      "source": [
        "df_to_be_scored.head()"
      ],
      "execution_count": null,
      "outputs": [
        {
          "output_type": "execute_result",
          "data": {
            "text/html": [
              "<div>\n",
              "<style scoped>\n",
              "    .dataframe tbody tr th:only-of-type {\n",
              "        vertical-align: middle;\n",
              "    }\n",
              "\n",
              "    .dataframe tbody tr th {\n",
              "        vertical-align: top;\n",
              "    }\n",
              "\n",
              "    .dataframe thead th {\n",
              "        text-align: right;\n",
              "    }\n",
              "</style>\n",
              "<table border=\"1\" class=\"dataframe\">\n",
              "  <thead>\n",
              "    <tr style=\"text-align: right;\">\n",
              "      <th></th>\n",
              "      <th>EFECTIVO</th>\n",
              "      <th>CXC</th>\n",
              "      <th>INVENTARIO</th>\n",
              "      <th>EQ_OFICINA</th>\n",
              "      <th>EQ_TRANSPORTE</th>\n",
              "      <th>TERRENOS_Y_CONSTRUCCIONES</th>\n",
              "      <th>CXP</th>\n",
              "      <th>CONTRIBUCIONES_X_PAGAR</th>\n",
              "      <th>ANTICIPOS_CTE</th>\n",
              "      <th>CAP_SOCIAL</th>\n",
              "      <th>UTILIDADES_ACUMULADAS</th>\n",
              "      <th>UTILIDAD_O_PERDIDA</th>\n",
              "      <th>TOTAL_VENTAS</th>\n",
              "      <th>TOTAL_COMPRAS</th>\n",
              "      <th>UTILIDAD_BRUTA</th>\n",
              "      <th>TOTAL_GASTOS</th>\n",
              "    </tr>\n",
              "  </thead>\n",
              "  <tbody>\n",
              "    <tr>\n",
              "      <th>0</th>\n",
              "      <td>1.402839e+06</td>\n",
              "      <td>44583071.51</td>\n",
              "      <td>17579093.50</td>\n",
              "      <td>1.648525e+06</td>\n",
              "      <td>5.027861e+05</td>\n",
              "      <td>1.050458e+06</td>\n",
              "      <td>53144319.00</td>\n",
              "      <td>2.076978e+06</td>\n",
              "      <td>5.822111e+06</td>\n",
              "      <td>1.235629e+07</td>\n",
              "      <td>1.180115e+07</td>\n",
              "      <td>-4.952369e+06</td>\n",
              "      <td>9.350929e+07</td>\n",
              "      <td>1.485613e+08</td>\n",
              "      <td>2.026458e+07</td>\n",
              "      <td>2.544413e+07</td>\n",
              "    </tr>\n",
              "    <tr>\n",
              "      <th>1</th>\n",
              "      <td>1.850961e+05</td>\n",
              "      <td>11144636.79</td>\n",
              "      <td>36407677.13</td>\n",
              "      <td>4.214732e+05</td>\n",
              "      <td>2.913787e+06</td>\n",
              "      <td>NaN</td>\n",
              "      <td>NaN</td>\n",
              "      <td>7.095447e+04</td>\n",
              "      <td>2.403460e+06</td>\n",
              "      <td>1.348782e+05</td>\n",
              "      <td>9.051638e+06</td>\n",
              "      <td>-6.260910e+06</td>\n",
              "      <td>1.958889e+08</td>\n",
              "      <td>4.901225e+08</td>\n",
              "      <td>1.892297e+07</td>\n",
              "      <td>NaN</td>\n",
              "    </tr>\n",
              "    <tr>\n",
              "      <th>2</th>\n",
              "      <td>8.055658e+06</td>\n",
              "      <td>83094868.07</td>\n",
              "      <td>7723528.23</td>\n",
              "      <td>1.187192e+08</td>\n",
              "      <td>5.021466e+06</td>\n",
              "      <td>-1.197336e+07</td>\n",
              "      <td>81723630.93</td>\n",
              "      <td>9.482034e+05</td>\n",
              "      <td>2.056313e+07</td>\n",
              "      <td>2.461496e+05</td>\n",
              "      <td>NaN</td>\n",
              "      <td>-5.931161e+06</td>\n",
              "      <td>NaN</td>\n",
              "      <td>6.676051e+08</td>\n",
              "      <td>2.661718e+07</td>\n",
              "      <td>NaN</td>\n",
              "    </tr>\n",
              "    <tr>\n",
              "      <th>3</th>\n",
              "      <td>9.843232e+04</td>\n",
              "      <td>5876109.56</td>\n",
              "      <td>3991008.27</td>\n",
              "      <td>5.847962e+05</td>\n",
              "      <td>4.072740e+04</td>\n",
              "      <td>5.300208e+06</td>\n",
              "      <td>16434719.41</td>\n",
              "      <td>NaN</td>\n",
              "      <td>1.232947e+06</td>\n",
              "      <td>3.710336e+05</td>\n",
              "      <td>9.367407e+06</td>\n",
              "      <td>-4.511669e+06</td>\n",
              "      <td>NaN</td>\n",
              "      <td>NaN</td>\n",
              "      <td>9.875365e+06</td>\n",
              "      <td>6.535524e+06</td>\n",
              "    </tr>\n",
              "    <tr>\n",
              "      <th>4</th>\n",
              "      <td>NaN</td>\n",
              "      <td>23696999.62</td>\n",
              "      <td>36624028.71</td>\n",
              "      <td>NaN</td>\n",
              "      <td>3.222506e+06</td>\n",
              "      <td>NaN</td>\n",
              "      <td>50356975.02</td>\n",
              "      <td>5.668446e+05</td>\n",
              "      <td>7.996380e+06</td>\n",
              "      <td>1.354648e+07</td>\n",
              "      <td>8.604879e+06</td>\n",
              "      <td>-1.924530e+05</td>\n",
              "      <td>3.397666e+08</td>\n",
              "      <td>9.354509e+07</td>\n",
              "      <td>NaN</td>\n",
              "      <td>2.903567e+07</td>\n",
              "    </tr>\n",
              "  </tbody>\n",
              "</table>\n",
              "</div>"
            ],
            "text/plain": [
              "       EFECTIVO          CXC  ...  UTILIDAD_BRUTA  TOTAL_GASTOS\n",
              "0  1.402839e+06  44583071.51  ...    2.026458e+07  2.544413e+07\n",
              "1  1.850961e+05  11144636.79  ...    1.892297e+07           NaN\n",
              "2  8.055658e+06  83094868.07  ...    2.661718e+07           NaN\n",
              "3  9.843232e+04   5876109.56  ...    9.875365e+06  6.535524e+06\n",
              "4           NaN  23696999.62  ...             NaN  2.903567e+07\n",
              "\n",
              "[5 rows x 16 columns]"
            ]
          },
          "metadata": {
            "tags": []
          },
          "execution_count": 22
        }
      ]
    },
    {
      "cell_type": "code",
      "metadata": {
        "id": "rfti3BJjyNq7",
        "colab_type": "code",
        "colab": {
          "base_uri": "https://localhost:8080/",
          "height": 602
        },
        "outputId": "766be9e2-7da9-49da-80e8-e2654ab928c3"
      },
      "source": [
        "s_1 = CustomTransformer(\n",
        "    columns=[\n",
        "        'EFECTIVO',\n",
        "        'CXC',\n",
        "        'INVENTARIO',\n",
        "        'EQ_OFICINA',\n",
        "        'EQ_TRANSPORTE',\n",
        "        'TERRENOS_Y_CONSTRUCCIONES',\n",
        "        'CXP',\n",
        "        'CONTRIBUCIONES_X_PAGAR',\n",
        "        'ANTICIPOS_CTE',\n",
        "        'CAP_SOCIAL',\n",
        "        'UTILIDADES_ACUMULADAS',\n",
        "        'UTILIDAD_O_PERDIDA',\n",
        "        'TOTAL_VENTAS',\n",
        "        'TOTAL_COMPRAS',\n",
        "        'UTILIDAD_BRUTA',\n",
        "        'TOTAL_GASTOS',\n",
        "    ]\n",
        ")\n",
        "s_1.fit(df_to_be_scored)\n",
        "df_to_be_scored = s_1.transform(df_to_be_scored)"
      ],
      "execution_count": null,
      "outputs": [
        {
          "output_type": "stream",
          "text": [
            "/usr/local/lib/python3.6/dist-packages/pandas/core/indexing.py:671: SettingWithCopyWarning: \n",
            "A value is trying to be set on a copy of a slice from a DataFrame\n",
            "\n",
            "See the caveats in the documentation: https://pandas.pydata.org/pandas-docs/stable/user_guide/indexing.html#returning-a-view-versus-a-copy\n",
            "  self._setitem_with_indexer(indexer, value)\n",
            "/usr/local/lib/python3.6/dist-packages/ipykernel_launcher.py:32: SettingWithCopyWarning: \n",
            "A value is trying to be set on a copy of a slice from a DataFrame\n",
            "\n",
            "See the caveats in the documentation: https://pandas.pydata.org/pandas-docs/stable/user_guide/indexing.html#returning-a-view-versus-a-copy\n",
            "/usr/local/lib/python3.6/dist-packages/pandas/core/indexing.py:671: SettingWithCopyWarning: \n",
            "A value is trying to be set on a copy of a slice from a DataFrame\n",
            "\n",
            "See the caveats in the documentation: https://pandas.pydata.org/pandas-docs/stable/user_guide/indexing.html#returning-a-view-versus-a-copy\n",
            "  self._setitem_with_indexer(indexer, value)\n",
            "/usr/local/lib/python3.6/dist-packages/ipykernel_launcher.py:32: SettingWithCopyWarning: \n",
            "A value is trying to be set on a copy of a slice from a DataFrame\n",
            "\n",
            "See the caveats in the documentation: https://pandas.pydata.org/pandas-docs/stable/user_guide/indexing.html#returning-a-view-versus-a-copy\n",
            "/usr/local/lib/python3.6/dist-packages/pandas/core/indexing.py:671: SettingWithCopyWarning: \n",
            "A value is trying to be set on a copy of a slice from a DataFrame\n",
            "\n",
            "See the caveats in the documentation: https://pandas.pydata.org/pandas-docs/stable/user_guide/indexing.html#returning-a-view-versus-a-copy\n",
            "  self._setitem_with_indexer(indexer, value)\n",
            "/usr/local/lib/python3.6/dist-packages/ipykernel_launcher.py:32: SettingWithCopyWarning: \n",
            "A value is trying to be set on a copy of a slice from a DataFrame\n",
            "\n",
            "See the caveats in the documentation: https://pandas.pydata.org/pandas-docs/stable/user_guide/indexing.html#returning-a-view-versus-a-copy\n",
            "/usr/local/lib/python3.6/dist-packages/pandas/core/indexing.py:671: SettingWithCopyWarning: \n",
            "A value is trying to be set on a copy of a slice from a DataFrame\n",
            "\n",
            "See the caveats in the documentation: https://pandas.pydata.org/pandas-docs/stable/user_guide/indexing.html#returning-a-view-versus-a-copy\n",
            "  self._setitem_with_indexer(indexer, value)\n",
            "/usr/local/lib/python3.6/dist-packages/ipykernel_launcher.py:32: SettingWithCopyWarning: \n",
            "A value is trying to be set on a copy of a slice from a DataFrame\n",
            "\n",
            "See the caveats in the documentation: https://pandas.pydata.org/pandas-docs/stable/user_guide/indexing.html#returning-a-view-versus-a-copy\n"
          ],
          "name": "stderr"
        }
      ]
    },
    {
      "cell_type": "code",
      "metadata": {
        "id": "4Gj-Uqla0c_V",
        "colab_type": "code",
        "colab": {}
      },
      "source": [
        "##########\n",
        "from sklearn.impute import KNNImputer\n",
        "imputer = KNNImputer(n_neighbors=51) #arbitrary\n",
        "X_values = imputer.fit_transform(df_to_be_scored.values)\n",
        "df_to_be_scored.loc[:,:] = X_values"
      ],
      "execution_count": null,
      "outputs": []
    },
    {
      "cell_type": "code",
      "metadata": {
        "id": "YDP6Nqxe0kKp",
        "colab_type": "code",
        "colab": {}
      },
      "source": [
        "# Realización de una prueba a ciegas en el modelo creado\n",
        "y_pred = pipeline.predict(df_to_be_scored.values)"
      ],
      "execution_count": null,
      "outputs": []
    },
    {
      "cell_type": "code",
      "metadata": {
        "id": "wjClvplwB43k",
        "colab_type": "code",
        "colab": {
          "base_uri": "https://localhost:8080/",
          "height": 830
        },
        "outputId": "9bce15fb-5ec1-43da-a9f3-95da63c290f4"
      },
      "source": [
        "y_pred[0:50]"
      ],
      "execution_count": null,
      "outputs": [
        {
          "output_type": "execute_result",
          "data": {
            "text/plain": [
              "array([[1],\n",
              "       [1],\n",
              "       [0],\n",
              "       [0],\n",
              "       [0],\n",
              "       [1],\n",
              "       [0],\n",
              "       [0],\n",
              "       [0],\n",
              "       [0],\n",
              "       [0],\n",
              "       [0],\n",
              "       [0],\n",
              "       [0],\n",
              "       [0],\n",
              "       [0],\n",
              "       [0],\n",
              "       [0],\n",
              "       [0],\n",
              "       [0],\n",
              "       [0],\n",
              "       [0],\n",
              "       [0],\n",
              "       [0],\n",
              "       [0],\n",
              "       [0],\n",
              "       [0],\n",
              "       [0],\n",
              "       [0],\n",
              "       [0],\n",
              "       [0],\n",
              "       [0],\n",
              "       [0],\n",
              "       [0],\n",
              "       [0],\n",
              "       [0],\n",
              "       [0],\n",
              "       [0],\n",
              "       [0],\n",
              "       [1],\n",
              "       [0],\n",
              "       [0],\n",
              "       [0],\n",
              "       [0],\n",
              "       [0],\n",
              "       [0],\n",
              "       [0],\n",
              "       [0],\n",
              "       [0],\n",
              "       [0]])"
            ]
          },
          "metadata": {
            "tags": []
          },
          "execution_count": 147
        }
      ]
    },
    {
      "cell_type": "code",
      "metadata": {
        "id": "lqgxZYorBfPl",
        "colab_type": "code",
        "colab": {}
      },
      "source": [
        "y_pred_str = np.array(['Sospechoso' if x == 1 else 'Aceptado' for x in y_pred])"
      ],
      "execution_count": null,
      "outputs": []
    },
    {
      "cell_type": "code",
      "metadata": {
        "id": "MJDK5z3lF4Ug",
        "colab_type": "code",
        "colab": {}
      },
      "source": [
        "y_pred_str = y_pred_str.reshape(y_pred_str.shape[0],1)"
      ],
      "execution_count": null,
      "outputs": []
    },
    {
      "cell_type": "code",
      "metadata": {
        "id": "rXcOHqHIGDxp",
        "colab_type": "code",
        "colab": {
          "base_uri": "https://localhost:8080/",
          "height": 830
        },
        "outputId": "38e3f8ec-f708-4513-94dc-9a31b93bca51"
      },
      "source": [
        "y_pred_str[0:50]"
      ],
      "execution_count": null,
      "outputs": [
        {
          "output_type": "execute_result",
          "data": {
            "text/plain": [
              "array([['Sospechoso'],\n",
              "       ['Sospechoso'],\n",
              "       ['Aceptado'],\n",
              "       ['Aceptado'],\n",
              "       ['Aceptado'],\n",
              "       ['Sospechoso'],\n",
              "       ['Aceptado'],\n",
              "       ['Aceptado'],\n",
              "       ['Aceptado'],\n",
              "       ['Aceptado'],\n",
              "       ['Aceptado'],\n",
              "       ['Aceptado'],\n",
              "       ['Aceptado'],\n",
              "       ['Aceptado'],\n",
              "       ['Aceptado'],\n",
              "       ['Aceptado'],\n",
              "       ['Aceptado'],\n",
              "       ['Aceptado'],\n",
              "       ['Aceptado'],\n",
              "       ['Aceptado'],\n",
              "       ['Aceptado'],\n",
              "       ['Aceptado'],\n",
              "       ['Aceptado'],\n",
              "       ['Aceptado'],\n",
              "       ['Aceptado'],\n",
              "       ['Aceptado'],\n",
              "       ['Aceptado'],\n",
              "       ['Aceptado'],\n",
              "       ['Aceptado'],\n",
              "       ['Aceptado'],\n",
              "       ['Aceptado'],\n",
              "       ['Aceptado'],\n",
              "       ['Aceptado'],\n",
              "       ['Aceptado'],\n",
              "       ['Aceptado'],\n",
              "       ['Aceptado'],\n",
              "       ['Aceptado'],\n",
              "       ['Aceptado'],\n",
              "       ['Aceptado'],\n",
              "       ['Sospechoso'],\n",
              "       ['Aceptado'],\n",
              "       ['Aceptado'],\n",
              "       ['Aceptado'],\n",
              "       ['Aceptado'],\n",
              "       ['Aceptado'],\n",
              "       ['Aceptado'],\n",
              "       ['Aceptado'],\n",
              "       ['Aceptado'],\n",
              "       ['Aceptado'],\n",
              "       ['Aceptado']], dtype='<U10')"
            ]
          },
          "metadata": {
            "tags": []
          },
          "execution_count": 150
        }
      ]
    },
    {
      "cell_type": "code",
      "metadata": {
        "id": "FqNz-QNd0n0S",
        "colab_type": "code",
        "colab": {
          "base_uri": "https://localhost:8080/",
          "height": 211
        },
        "outputId": "1b444a89-ed38-4766-e391-477463222301"
      },
      "source": [
        "# Agregando las respuestas en la columna \"target\"\n",
        "df_to_be_scored['target'] = y_pred_str\n",
        "df_to_be_scored.head()"
      ],
      "execution_count": null,
      "outputs": [
        {
          "output_type": "execute_result",
          "data": {
            "text/html": [
              "<div>\n",
              "<style scoped>\n",
              "    .dataframe tbody tr th:only-of-type {\n",
              "        vertical-align: middle;\n",
              "    }\n",
              "\n",
              "    .dataframe tbody tr th {\n",
              "        vertical-align: top;\n",
              "    }\n",
              "\n",
              "    .dataframe thead th {\n",
              "        text-align: right;\n",
              "    }\n",
              "</style>\n",
              "<table border=\"1\" class=\"dataframe\">\n",
              "  <thead>\n",
              "    <tr style=\"text-align: right;\">\n",
              "      <th></th>\n",
              "      <th>EFECTIVO</th>\n",
              "      <th>CXC</th>\n",
              "      <th>INVENTARIO</th>\n",
              "      <th>EQ_OFICINA</th>\n",
              "      <th>EQ_TRANSPORTE</th>\n",
              "      <th>TERRENOS_Y_CONSTRUCCIONES</th>\n",
              "      <th>CXP</th>\n",
              "      <th>CONTRIBUCIONES_X_PAGAR</th>\n",
              "      <th>ANTICIPOS_CTE</th>\n",
              "      <th>CAP_SOCIAL</th>\n",
              "      <th>UTILIDADES_ACUMULADAS</th>\n",
              "      <th>UTILIDAD_O_PERDIDA</th>\n",
              "      <th>TOTAL_VENTAS</th>\n",
              "      <th>TOTAL_COMPRAS</th>\n",
              "      <th>UTILIDAD_BRUTA</th>\n",
              "      <th>TOTAL_GASTOS</th>\n",
              "      <th>target</th>\n",
              "    </tr>\n",
              "  </thead>\n",
              "  <tbody>\n",
              "    <tr>\n",
              "      <th>0</th>\n",
              "      <td>1.402839e+06</td>\n",
              "      <td>44583071.51</td>\n",
              "      <td>17579093.50</td>\n",
              "      <td>1.648525e+06</td>\n",
              "      <td>5.027861e+05</td>\n",
              "      <td>1.050458e+06</td>\n",
              "      <td>5.314432e+07</td>\n",
              "      <td>2.076978e+06</td>\n",
              "      <td>5.822111e+06</td>\n",
              "      <td>1.235629e+07</td>\n",
              "      <td>1.180115e+07</td>\n",
              "      <td>-4.952369e+06</td>\n",
              "      <td>9.350929e+07</td>\n",
              "      <td>1.485613e+08</td>\n",
              "      <td>2.026458e+07</td>\n",
              "      <td>2.544413e+07</td>\n",
              "      <td>Sospechoso</td>\n",
              "    </tr>\n",
              "    <tr>\n",
              "      <th>1</th>\n",
              "      <td>1.850961e+05</td>\n",
              "      <td>11144636.79</td>\n",
              "      <td>36407677.13</td>\n",
              "      <td>4.214732e+05</td>\n",
              "      <td>2.913787e+06</td>\n",
              "      <td>-2.138664e+06</td>\n",
              "      <td>1.504889e+07</td>\n",
              "      <td>7.095447e+04</td>\n",
              "      <td>2.403460e+06</td>\n",
              "      <td>1.348782e+05</td>\n",
              "      <td>9.051638e+06</td>\n",
              "      <td>-6.260910e+06</td>\n",
              "      <td>1.958889e+08</td>\n",
              "      <td>4.901225e+08</td>\n",
              "      <td>1.892297e+07</td>\n",
              "      <td>1.762752e+07</td>\n",
              "      <td>Sospechoso</td>\n",
              "    </tr>\n",
              "    <tr>\n",
              "      <th>2</th>\n",
              "      <td>8.055658e+06</td>\n",
              "      <td>83094868.07</td>\n",
              "      <td>7723528.23</td>\n",
              "      <td>1.187192e+08</td>\n",
              "      <td>5.021466e+06</td>\n",
              "      <td>-1.197336e+07</td>\n",
              "      <td>8.172363e+07</td>\n",
              "      <td>9.482034e+05</td>\n",
              "      <td>2.056313e+07</td>\n",
              "      <td>2.461496e+05</td>\n",
              "      <td>1.216269e+07</td>\n",
              "      <td>-5.931161e+06</td>\n",
              "      <td>1.355712e+08</td>\n",
              "      <td>6.676051e+08</td>\n",
              "      <td>2.661718e+07</td>\n",
              "      <td>2.306791e+07</td>\n",
              "      <td>Aceptado</td>\n",
              "    </tr>\n",
              "    <tr>\n",
              "      <th>3</th>\n",
              "      <td>9.843232e+04</td>\n",
              "      <td>5876109.56</td>\n",
              "      <td>3991008.27</td>\n",
              "      <td>5.847962e+05</td>\n",
              "      <td>4.072740e+04</td>\n",
              "      <td>5.300208e+06</td>\n",
              "      <td>1.643472e+07</td>\n",
              "      <td>3.068873e+05</td>\n",
              "      <td>1.232947e+06</td>\n",
              "      <td>3.710336e+05</td>\n",
              "      <td>9.367407e+06</td>\n",
              "      <td>-4.511669e+06</td>\n",
              "      <td>6.077052e+07</td>\n",
              "      <td>5.798939e+07</td>\n",
              "      <td>9.875365e+06</td>\n",
              "      <td>6.535524e+06</td>\n",
              "      <td>Aceptado</td>\n",
              "    </tr>\n",
              "    <tr>\n",
              "      <th>4</th>\n",
              "      <td>1.637193e+06</td>\n",
              "      <td>23696999.62</td>\n",
              "      <td>36624028.71</td>\n",
              "      <td>2.891993e+06</td>\n",
              "      <td>3.222506e+06</td>\n",
              "      <td>-2.005656e+06</td>\n",
              "      <td>5.035698e+07</td>\n",
              "      <td>5.668446e+05</td>\n",
              "      <td>7.996380e+06</td>\n",
              "      <td>1.354648e+07</td>\n",
              "      <td>8.604879e+06</td>\n",
              "      <td>-1.924530e+05</td>\n",
              "      <td>3.397666e+08</td>\n",
              "      <td>9.354509e+07</td>\n",
              "      <td>3.196543e+07</td>\n",
              "      <td>2.903567e+07</td>\n",
              "      <td>Aceptado</td>\n",
              "    </tr>\n",
              "  </tbody>\n",
              "</table>\n",
              "</div>"
            ],
            "text/plain": [
              "       EFECTIVO          CXC  ...  TOTAL_GASTOS      target\n",
              "0  1.402839e+06  44583071.51  ...  2.544413e+07  Sospechoso\n",
              "1  1.850961e+05  11144636.79  ...  1.762752e+07  Sospechoso\n",
              "2  8.055658e+06  83094868.07  ...  2.306791e+07    Aceptado\n",
              "3  9.843232e+04   5876109.56  ...  6.535524e+06    Aceptado\n",
              "4  1.637193e+06  23696999.62  ...  2.903567e+07    Aceptado\n",
              "\n",
              "[5 rows x 17 columns]"
            ]
          },
          "metadata": {
            "tags": []
          },
          "execution_count": 153
        }
      ]
    },
    {
      "cell_type": "code",
      "metadata": {
        "id": "qvMwsKu05Fui",
        "colab_type": "code",
        "colab": {
          "base_uri": "https://localhost:8080/",
          "height": 33
        },
        "outputId": "0bb40c6d-32ae-45d3-a66f-7b76063f8159"
      },
      "source": [
        "print(df_to_be_scored.values.shape)"
      ],
      "execution_count": null,
      "outputs": [
        {
          "output_type": "stream",
          "text": [
            "(600, 17)\n"
          ],
          "name": "stdout"
        }
      ]
    },
    {
      "cell_type": "code",
      "metadata": {
        "id": "5Jv5yCkG5XBN",
        "colab_type": "code",
        "colab": {
          "base_uri": "https://localhost:8080/",
          "height": 310
        },
        "outputId": "1c2c7ec4-9f18-44b1-a4dd-d7309e38465e"
      },
      "source": [
        "df_to_be_scored.isna().sum()"
      ],
      "execution_count": null,
      "outputs": [
        {
          "output_type": "execute_result",
          "data": {
            "text/plain": [
              "EFECTIVO                     0\n",
              "CXC                          0\n",
              "INVENTARIO                   0\n",
              "EQ_OFICINA                   0\n",
              "EQ_TRANSPORTE                0\n",
              "TERRENOS_Y_CONSTRUCCIONES    0\n",
              "CXP                          0\n",
              "CONTRIBUCIONES_X_PAGAR       0\n",
              "ANTICIPOS_CTE                0\n",
              "CAP_SOCIAL                   0\n",
              "UTILIDADES_ACUMULADAS        0\n",
              "UTILIDAD_O_PERDIDA           0\n",
              "TOTAL_VENTAS                 0\n",
              "TOTAL_COMPRAS                0\n",
              "UTILIDAD_BRUTA               0\n",
              "TOTAL_GASTOS                 0\n",
              "target                       0\n",
              "dtype: int64"
            ]
          },
          "metadata": {
            "tags": []
          },
          "execution_count": 156
        }
      ]
    },
    {
      "cell_type": "code",
      "metadata": {
        "id": "YToqM_2bBnp4",
        "colab_type": "code",
        "colab": {}
      },
      "source": [
        "df_to_be_scored.to_csv('/content/drive/My Drive/Colab Notebooks/results.csv')"
      ],
      "execution_count": null,
      "outputs": []
    },
    {
      "cell_type": "markdown",
      "metadata": {
        "id": "h5TVTDuJU6cR",
        "colab_type": "text"
      },
      "source": [
        "En la celda de abajo, repetimos rápidamente los mismos pasos de preprocesamiento usados ​​en el ejemplo dado con el árbol de decisiones"
      ]
    },
    {
      "cell_type": "markdown",
      "metadata": {
        "id": "EXUgfzajU6cY",
        "colab_type": "text"
      },
      "source": [
        "### Guardar la hoja de respuestas como un archivo .csv para enviar\n",
        "**SI YA TIENE UN DATA ASSET CON EL NOMBRE `results.csv` EN ESTE PROYECTO O EN OTRO PROYECTO DE WATSON STUDIO DEBE BORRAR EL ARCHIVO ANTES DE CORRER LA SIGUIENTE CELDA O TENDRA EL ERROR: _RuntimeError: File 'results.csv' already exists in storage._**"
      ]
    },
    {
      "cell_type": "code",
      "metadata": {
        "id": "eI8PF1AbU6cY",
        "colab_type": "code",
        "colab": {}
      },
      "source": [
        "project.save_data(file_name=\"results.csv\", data=df_to_be_scored_3.to_csv(index=False))"
      ],
      "execution_count": null,
      "outputs": []
    },
    {
      "cell_type": "markdown",
      "metadata": {
        "id": "tM3RLBmlU6ca",
        "colab_type": "text"
      },
      "source": [
        "# Atención\n",
        "\n",
        "# La ejecución de la celda anterior creará un nuevo \"data asset\" en su proyecto de Watson Studio. Deberá descargar este archivo junto con este cuaderno y crear un archivo zip con **results.csv** y **notebook.ipynb** para enviarlo. (los archivos deben tener este nombre)"
      ]
    },
    {
      "cell_type": "markdown",
      "metadata": {
        "id": "8CKn0QGoU6ca",
        "colab_type": "text"
      },
      "source": [
        "<hr>\n",
        "\n",
        "## ¡Felicitaciones! \n",
        "\n",
        "Si ya está satisfecho con su solución, vaya a la página siguiente y envíe los archivos necesarios para su envío.\n",
        "\n",
        "# https://compusoluciones.maratona.dev"
      ]
    },
    {
      "cell_type": "code",
      "metadata": {
        "id": "R3PMiTr0U6ca",
        "colab_type": "code",
        "colab": {}
      },
      "source": [
        ""
      ],
      "execution_count": null,
      "outputs": []
    }
  ]
}